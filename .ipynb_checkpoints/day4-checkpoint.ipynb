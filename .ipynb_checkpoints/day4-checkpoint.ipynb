{
 "cells": [
  {
   "cell_type": "code",
   "execution_count": 1,
   "metadata": {
    "colab": {},
    "colab_type": "code",
    "id": "_vnQ-uWnpwjJ"
   },
   "outputs": [
    {
     "ename": "ModuleNotFoundError",
     "evalue": "No module named 'pandas'",
     "output_type": "error",
     "traceback": [
      "\u001b[0;31m---------------------------------------------------------------------------\u001b[0m",
      "\u001b[0;31mModuleNotFoundError\u001b[0m                       Traceback (most recent call last)",
      "\u001b[0;32m<ipython-input-1-61d5d6832de8>\u001b[0m in \u001b[0;36m<module>\u001b[0;34m\u001b[0m\n\u001b[0;32m----> 1\u001b[0;31m \u001b[0;32mimport\u001b[0m \u001b[0mpandas\u001b[0m \u001b[0;32mas\u001b[0m \u001b[0mpd\u001b[0m\u001b[0;34m\u001b[0m\u001b[0;34m\u001b[0m\u001b[0m\n\u001b[0m\u001b[1;32m      2\u001b[0m \u001b[0;32mimport\u001b[0m \u001b[0mnumpy\u001b[0m \u001b[0;32mas\u001b[0m \u001b[0mnp\u001b[0m\u001b[0;34m\u001b[0m\u001b[0;34m\u001b[0m\u001b[0m\n\u001b[1;32m      3\u001b[0m \u001b[0;32mfrom\u001b[0m \u001b[0msklearn\u001b[0m\u001b[0;34m.\u001b[0m\u001b[0mtree\u001b[0m \u001b[0;32mimport\u001b[0m \u001b[0mDecisionTreeRegressor\u001b[0m\u001b[0;34m\u001b[0m\u001b[0;34m\u001b[0m\u001b[0m\n\u001b[1;32m      4\u001b[0m \u001b[0;32mfrom\u001b[0m \u001b[0msklearn\u001b[0m\u001b[0;34m.\u001b[0m\u001b[0mmetrics\u001b[0m \u001b[0;32mimport\u001b[0m \u001b[0mmean_absolute_error\u001b[0m\u001b[0;34m\u001b[0m\u001b[0;34m\u001b[0m\u001b[0m\n\u001b[1;32m      5\u001b[0m \u001b[0;32mfrom\u001b[0m \u001b[0msklearn\u001b[0m\u001b[0;34m.\u001b[0m\u001b[0mmodel_selection\u001b[0m \u001b[0;32mimport\u001b[0m \u001b[0mcross_validate\u001b[0m\u001b[0;34m\u001b[0m\u001b[0;34m\u001b[0m\u001b[0m\n",
      "\u001b[0;31mModuleNotFoundError\u001b[0m: No module named 'pandas'"
     ]
    }
   ],
   "source": [
    "import pandas as pd\n",
    "import numpy as np\n",
    "from sklearn.tree import DecisionTreeRegressor\n",
    "from sklearn.metrics import mean_absolute_error\n",
    "from sklearn.model_selection import cross_validate\n",
    "from sklearn.model_selection import cross_val_score"
   ]
  },
  {
   "cell_type": "code",
   "execution_count": 18,
   "metadata": {
    "colab": {
     "base_uri": "https://localhost:8080/",
     "height": 34
    },
    "colab_type": "code",
    "executionInfo": {
     "elapsed": 586,
     "status": "ok",
     "timestamp": 1583159959951,
     "user": {
      "displayName": "Tomasz Garboliński",
      "photoUrl": "",
      "userId": "14842700098904817277"
     },
     "user_tz": -60
    },
    "id": "BN6LN3gRr6dy",
    "outputId": "31882d9b-7737-4ad6-9ee0-3f5dfdd33a62"
   },
   "outputs": [
    {
     "name": "stdout",
     "output_type": "stream",
     "text": [
      "/content/drive/My Drive/Colab Notebooks/dw_matrix\n"
     ]
    }
   ],
   "source": [
    "cd \"/content/drive/My Drive/Colab Notebooks/dw_matrix\""
   ]
  },
  {
   "cell_type": "code",
   "execution_count": 19,
   "metadata": {
    "colab": {
     "base_uri": "https://localhost:8080/",
     "height": 34
    },
    "colab_type": "code",
    "executionInfo": {
     "elapsed": 2193,
     "status": "ok",
     "timestamp": 1583159992328,
     "user": {
      "displayName": "Tomasz Garboliński",
      "photoUrl": "",
      "userId": "14842700098904817277"
     },
     "user_tz": -60
    },
    "id": "gWPdvDG0r95Y",
    "outputId": "c00c242b-54c9-4438-a351-139d8be1ab97"
   },
   "outputs": [
    {
     "name": "stdout",
     "output_type": "stream",
     "text": [
      "shoes_prices.csv\n"
     ]
    }
   ],
   "source": [
    "ls data"
   ]
  },
  {
   "cell_type": "code",
   "execution_count": 21,
   "metadata": {
    "colab": {
     "base_uri": "https://localhost:8080/",
     "height": 34
    },
    "colab_type": "code",
    "executionInfo": {
     "elapsed": 1205,
     "status": "ok",
     "timestamp": 1583160075012,
     "user": {
      "displayName": "Tomasz Garboliński",
      "photoUrl": "",
      "userId": "14842700098904817277"
     },
     "user_tz": -60
    },
    "id": "HE80c6s6sFZK",
    "outputId": "31a40a11-8894-4ccc-b2a9-6eb03b75fe92"
   },
   "outputs": [
    {
     "data": {
      "text/plain": [
       "(19387, 48)"
      ]
     },
     "execution_count": 21,
     "metadata": {
      "tags": []
     },
     "output_type": "execute_result"
    }
   ],
   "source": [
    "df = pd.read_csv('data/shoes_prices.csv', low_memory=False)\n",
    "df.shape"
   ]
  },
  {
   "cell_type": "code",
   "execution_count": 22,
   "metadata": {
    "colab": {
     "base_uri": "https://localhost:8080/",
     "height": 225
    },
    "colab_type": "code",
    "executionInfo": {
     "elapsed": 399,
     "status": "ok",
     "timestamp": 1583160111116,
     "user": {
      "displayName": "Tomasz Garboliński",
      "photoUrl": "",
      "userId": "14842700098904817277"
     },
     "user_tz": -60
    },
    "id": "mig24SRLsRUk",
    "outputId": "0eafc647-0999-4797-9286-63402a7510f5"
   },
   "outputs": [
    {
     "data": {
      "text/plain": [
       "Index(['id', 'asins', 'brand', 'categories', 'colors', 'count', 'dateadded',\n",
       "       'dateupdated', 'descriptions', 'dimension', 'ean', 'features',\n",
       "       'flavors', 'imageurls', 'isbn', 'keys', 'manufacturer',\n",
       "       'manufacturernumber', 'merchants', 'name', 'prices_amountmin',\n",
       "       'prices_amountmax', 'prices_availability', 'prices_color',\n",
       "       'prices_condition', 'prices_count', 'prices_currency',\n",
       "       'prices_dateadded', 'prices_dateseen', 'prices_flavor', 'prices_issale',\n",
       "       'prices_merchant', 'prices_offer', 'prices_returnpolicy',\n",
       "       'prices_shipping', 'prices_size', 'prices_source', 'prices_sourceurls',\n",
       "       'prices_warranty', 'quantities', 'reviews', 'sizes', 'skus',\n",
       "       'sourceurls', 'upc', 'vin', 'websiteids', 'weight'],\n",
       "      dtype='object')"
      ]
     },
     "execution_count": 22,
     "metadata": {
      "tags": []
     },
     "output_type": "execute_result"
    }
   ],
   "source": [
    "df.columns"
   ]
  },
  {
   "cell_type": "code",
   "execution_count": 23,
   "metadata": {
    "colab": {
     "base_uri": "https://localhost:8080/",
     "height": 104
    },
    "colab_type": "code",
    "executionInfo": {
     "elapsed": 579,
     "status": "ok",
     "timestamp": 1583160200929,
     "user": {
      "displayName": "Tomasz Garboliński",
      "photoUrl": "",
      "userId": "14842700098904817277"
     },
     "user_tz": -60
    },
    "id": "iUpke6zcsi1q",
    "outputId": "ed4cfc4b-9114-4a2e-d809-98ad848d63d1"
   },
   "outputs": [
    {
     "data": {
      "text/plain": [
       "array(['USD', 'AUD', 'CAD', 'EUR', nan, 'GBP', 'New with box',\n",
       "       'UnbeatableSale.com, Inc. - Walmart.com',\n",
       "       'PalmBeach Jewelry - Walmart.com', 'new', 'New without tags',\n",
       "       'SHOEBACCA LTD. - Walmart.com', 'Shoes.com',\n",
       "       'Wholesale Costume and Party Supplies - Walmart.com'], dtype=object)"
      ]
     },
     "execution_count": 23,
     "metadata": {
      "tags": []
     },
     "output_type": "execute_result"
    }
   ],
   "source": [
    "df.prices_currency.unique()"
   ]
  },
  {
   "cell_type": "code",
   "execution_count": 88,
   "metadata": {
    "colab": {
     "base_uri": "https://localhost:8080/",
     "height": 225
    },
    "colab_type": "code",
    "executionInfo": {
     "elapsed": 522,
     "status": "ok",
     "timestamp": 1583165021177,
     "user": {
      "displayName": "Tomasz Garboliński",
      "photoUrl": "",
      "userId": "14842700098904817277"
     },
     "user_tz": -60
    },
    "id": "JGFGRe4I_BcM",
    "outputId": "b1a86051-2545-4b98-8b24-41a18d2f6bec"
   },
   "outputs": [
    {
     "data": {
      "text/plain": [
       "Puma                           476\n",
       "Nike                           374\n",
       "New Balance                    249\n",
       "VANS                           170\n",
       "Reebok                         128\n",
       "                              ... \n",
       "MEZLAN                           1\n",
       "Columbia Sportswear Company      1\n",
       "Broken T                         1\n",
       "Sperry Top-Sider                 1\n",
       "Armani Jeans                     1\n",
       "Name: manufacturer, Length: 618, dtype: int64"
      ]
     },
     "execution_count": 88,
     "metadata": {
      "tags": []
     },
     "output_type": "execute_result"
    }
   ],
   "source": [
    "df['manufacturer'].value_counts()"
   ]
  },
  {
   "cell_type": "code",
   "execution_count": 0,
   "metadata": {
    "colab": {},
    "colab_type": "code",
    "id": "NH_XvGgNs4ua"
   },
   "outputs": [],
   "source": [
    "df_USD = df[df['prices_currency'] == 'USD' ].copy()"
   ]
  },
  {
   "cell_type": "code",
   "execution_count": 26,
   "metadata": {
    "colab": {
     "base_uri": "https://localhost:8080/",
     "height": 34
    },
    "colab_type": "code",
    "executionInfo": {
     "elapsed": 552,
     "status": "ok",
     "timestamp": 1583160280317,
     "user": {
      "displayName": "Tomasz Garboliński",
      "photoUrl": "",
      "userId": "14842700098904817277"
     },
     "user_tz": -60
    },
    "id": "qMRGeVoptGhK",
    "outputId": "55e8be95-c4c8-42a8-d434-a4e994ad833d"
   },
   "outputs": [
    {
     "data": {
      "text/plain": [
       "(18524, 48)"
      ]
     },
     "execution_count": 26,
     "metadata": {
      "tags": []
     },
     "output_type": "execute_result"
    }
   ],
   "source": [
    "df_USD.shape"
   ]
  },
  {
   "cell_type": "code",
   "execution_count": 28,
   "metadata": {
    "colab": {
     "base_uri": "https://localhost:8080/",
     "height": 282
    },
    "colab_type": "code",
    "executionInfo": {
     "elapsed": 568,
     "status": "ok",
     "timestamp": 1583160350538,
     "user": {
      "displayName": "Tomasz Garboliński",
      "photoUrl": "",
      "userId": "14842700098904817277"
     },
     "user_tz": -60
    },
    "id": "-rRAefaOtMHX",
    "outputId": "e5565761-42a7-4fd8-e938-076a469dbba7"
   },
   "outputs": [
    {
     "data": {
      "text/plain": [
       "<matplotlib.axes._subplots.AxesSubplot at 0x7ff020a3c358>"
      ]
     },
     "execution_count": 28,
     "metadata": {
      "tags": []
     },
     "output_type": "execute_result"
    },
    {
     "data": {
      "image/png": "[encoded data removed]",
      "text/plain": [
       "<Figure size 432x288 with 1 Axes>"
      ]
     },
     "metadata": {
      "tags": []
     },
     "output_type": "display_data"
    }
   ],
   "source": [
    "df_USD['prices_amountmin'] = df_USD.prices_amountmin.astype(np.float)\n",
    "df_USD['prices_amountmin'].hist()"
   ]
  },
  {
   "cell_type": "code",
   "execution_count": 32,
   "metadata": {
    "colab": {
     "base_uri": "https://localhost:8080/",
     "height": 34
    },
    "colab_type": "code",
    "executionInfo": {
     "elapsed": 525,
     "status": "ok",
     "timestamp": 1583160501693,
     "user": {
      "displayName": "Tomasz Garboliński",
      "photoUrl": "",
      "userId": "14842700098904817277"
     },
     "user_tz": -60
    },
    "id": "Magp5lgAtVga",
    "outputId": "f34815d7-e0ab-4938-f9d0-9a2e86f17b4d"
   },
   "outputs": [
    {
     "data": {
      "text/plain": [
       "895.0"
      ]
     },
     "execution_count": 32,
     "metadata": {
      "tags": []
     },
     "output_type": "execute_result"
    }
   ],
   "source": [
    "filter_max = np.percentile(df_USD['prices_amountmin'],99)\n",
    "filter_max"
   ]
  },
  {
   "cell_type": "code",
   "execution_count": 33,
   "metadata": {
    "colab": {
     "base_uri": "https://localhost:8080/",
     "height": 34
    },
    "colab_type": "code",
    "executionInfo": {
     "elapsed": 662,
     "status": "ok",
     "timestamp": 1583160578156,
     "user": {
      "displayName": "Tomasz Garboliński",
      "photoUrl": "",
      "userId": "14842700098904817277"
     },
     "user_tz": -60
    },
    "id": "twbk7yOJt8jk",
    "outputId": "a6f0b133-d598-4717-f897-8177b19feee8"
   },
   "outputs": [
    {
     "data": {
      "text/plain": [
       "(18280, 48)"
      ]
     },
     "execution_count": 33,
     "metadata": {
      "tags": []
     },
     "output_type": "execute_result"
    }
   ],
   "source": [
    "df_USD_filter = df_USD[df_USD['prices_amountmin'] < filter_max]\n",
    "df_USD_filter.shape"
   ]
  },
  {
   "cell_type": "code",
   "execution_count": 36,
   "metadata": {
    "colab": {
     "base_uri": "https://localhost:8080/",
     "height": 282
    },
    "colab_type": "code",
    "executionInfo": {
     "elapsed": 810,
     "status": "ok",
     "timestamp": 1583160686035,
     "user": {
      "displayName": "Tomasz Garboliński",
      "photoUrl": "",
      "userId": "14842700098904817277"
     },
     "user_tz": -60
    },
    "id": "tlOXPLU4uUzf",
    "outputId": "99deae86-c918-423e-f8bc-67b8b3886c0e"
   },
   "outputs": [
    {
     "data": {
      "text/plain": [
       "<matplotlib.axes._subplots.AxesSubplot at 0x7ff022194a20>"
      ]
     },
     "execution_count": 36,
     "metadata": {
      "tags": []
     },
     "output_type": "execute_result"
    },
    {
     "data": {
      "image/png": "[encoded data removed]",
      "text/plain": [
       "<Figure size 432x288 with 1 Axes>"
      ]
     },
     "metadata": {
      "tags": []
     },
     "output_type": "display_data"
    }
   ],
   "source": [
    "df_USD_filter['prices_amountmin'].hist(bins=100)"
   ]
  },
  {
   "cell_type": "code",
   "execution_count": 0,
   "metadata": {
    "colab": {},
    "colab_type": "code",
    "id": "ct2nCuyOuffn"
   },
   "outputs": [],
   "source": [
    "df_USD_filter.to_csv('data/shoes_prices_filter.csv', index=False)"
   ]
  },
  {
   "cell_type": "code",
   "execution_count": 0,
   "metadata": {
    "colab": {},
    "colab_type": "code",
    "id": "0gwKKe6Ru4kp"
   },
   "outputs": [],
   "source": [
    "df = df_USD_filter"
   ]
  },
  {
   "cell_type": "code",
   "execution_count": 39,
   "metadata": {
    "colab": {
     "base_uri": "https://localhost:8080/",
     "height": 34
    },
    "colab_type": "code",
    "executionInfo": {
     "elapsed": 574,
     "status": "ok",
     "timestamp": 1583160757505,
     "user": {
      "displayName": "Tomasz Garboliński",
      "photoUrl": "",
      "userId": "14842700098904817277"
     },
     "user_tz": -60
    },
    "id": "e9zDmYTRu_YL",
    "outputId": "33a01d5e-f43b-4c59-8e79-7e050d3c9162"
   },
   "outputs": [
    {
     "data": {
      "text/plain": [
       "(18280, 48)"
      ]
     },
     "execution_count": 39,
     "metadata": {
      "tags": []
     },
     "output_type": "execute_result"
    }
   ],
   "source": [
    "df.shape"
   ]
  },
  {
   "cell_type": "code",
   "execution_count": 40,
   "metadata": {
    "colab": {
     "base_uri": "https://localhost:8080/",
     "height": 225
    },
    "colab_type": "code",
    "executionInfo": {
     "elapsed": 509,
     "status": "ok",
     "timestamp": 1583160767216,
     "user": {
      "displayName": "Tomasz Garboliński",
      "photoUrl": "",
      "userId": "14842700098904817277"
     },
     "user_tz": -60
    },
    "id": "dZb-nl3AvAoW",
    "outputId": "612f518b-e3c4-45ff-a717-19f094bf5557"
   },
   "outputs": [
    {
     "data": {
      "text/plain": [
       "Index(['id', 'asins', 'brand', 'categories', 'colors', 'count', 'dateadded',\n",
       "       'dateupdated', 'descriptions', 'dimension', 'ean', 'features',\n",
       "       'flavors', 'imageurls', 'isbn', 'keys', 'manufacturer',\n",
       "       'manufacturernumber', 'merchants', 'name', 'prices_amountmin',\n",
       "       'prices_amountmax', 'prices_availability', 'prices_color',\n",
       "       'prices_condition', 'prices_count', 'prices_currency',\n",
       "       'prices_dateadded', 'prices_dateseen', 'prices_flavor', 'prices_issale',\n",
       "       'prices_merchant', 'prices_offer', 'prices_returnpolicy',\n",
       "       'prices_shipping', 'prices_size', 'prices_source', 'prices_sourceurls',\n",
       "       'prices_warranty', 'quantities', 'reviews', 'sizes', 'skus',\n",
       "       'sourceurls', 'upc', 'vin', 'websiteids', 'weight'],\n",
       "      dtype='object')"
      ]
     },
     "execution_count": 40,
     "metadata": {
      "tags": []
     },
     "output_type": "execute_result"
    }
   ],
   "source": [
    "df.columns"
   ]
  },
  {
   "cell_type": "code",
   "execution_count": 0,
   "metadata": {
    "colab": {},
    "colab_type": "code",
    "id": "-RRDC-o9vDBQ"
   },
   "outputs": [],
   "source": [
    "mean_price = np.mean(df['prices_amountmin'])"
   ]
  },
  {
   "cell_type": "code",
   "execution_count": 42,
   "metadata": {
    "colab": {
     "base_uri": "https://localhost:8080/",
     "height": 34
    },
    "colab_type": "code",
    "executionInfo": {
     "elapsed": 679,
     "status": "ok",
     "timestamp": 1583160823014,
     "user": {
      "displayName": "Tomasz Garboliński",
      "photoUrl": "",
      "userId": "14842700098904817277"
     },
     "user_tz": -60
    },
    "id": "rtE6x806vOrj",
    "outputId": "5383d8e6-37c3-4058-8c33-8d37370cadd5"
   },
   "outputs": [
    {
     "data": {
      "text/plain": [
       "93.53952188183217"
      ]
     },
     "execution_count": 42,
     "metadata": {
      "tags": []
     },
     "output_type": "execute_result"
    }
   ],
   "source": [
    "mean_price"
   ]
  },
  {
   "cell_type": "code",
   "execution_count": 44,
   "metadata": {
    "colab": {
     "base_uri": "https://localhost:8080/",
     "height": 34
    },
    "colab_type": "code",
    "executionInfo": {
     "elapsed": 681,
     "status": "ok",
     "timestamp": 1583161249927,
     "user": {
      "displayName": "Tomasz Garboliński",
      "photoUrl": "",
      "userId": "14842700098904817277"
     },
     "user_tz": -60
    },
    "id": "yg0w6jhrvQkL",
    "outputId": "8db75648-a666-449b-e92b-76abf5625f58"
   },
   "outputs": [
    {
     "data": {
      "text/plain": [
       "63.968341227870624"
      ]
     },
     "execution_count": 44,
     "metadata": {
      "tags": []
     },
     "output_type": "execute_result"
    }
   ],
   "source": [
    "y_true = df['prices_amountmin']\n",
    "y_pred = [mean_price] * y_true.shape[0]\n",
    "\n",
    "mean_absolute_error(y_true, y_pred)"
   ]
  },
  {
   "cell_type": "code",
   "execution_count": 46,
   "metadata": {
    "colab": {
     "base_uri": "https://localhost:8080/",
     "height": 282
    },
    "colab_type": "code",
    "executionInfo": {
     "elapsed": 723,
     "status": "ok",
     "timestamp": 1583162453977,
     "user": {
      "displayName": "Tomasz Garboliński",
      "photoUrl": "",
      "userId": "14842700098904817277"
     },
     "user_tz": -60
    },
    "id": "CXFFHk6zwUMN",
    "outputId": "4dad1a19-15a2-4983-c68c-28718d5d2fe0"
   },
   "outputs": [
    {
     "data": {
      "text/plain": [
       "<matplotlib.axes._subplots.AxesSubplot at 0x7ff02036a2e8>"
      ]
     },
     "execution_count": 46,
     "metadata": {
      "tags": []
     },
     "output_type": "execute_result"
    },
    {
     "data": {
      "image/png": "[encoded data removed]",
      "text/plain": [
       "<Figure size 432x288 with 1 Axes>"
      ]
     },
     "metadata": {
      "tags": []
     },
     "output_type": "display_data"
    }
   ],
   "source": [
    "np.log(df['prices_amountmin'] +1 ).hist(bins=100)"
   ]
  },
  {
   "cell_type": "code",
   "execution_count": 47,
   "metadata": {
    "colab": {
     "base_uri": "https://localhost:8080/",
     "height": 282
    },
    "colab_type": "code",
    "executionInfo": {
     "elapsed": 867,
     "status": "ok",
     "timestamp": 1583162488146,
     "user": {
      "displayName": "Tomasz Garboliński",
      "photoUrl": "",
      "userId": "14842700098904817277"
     },
     "user_tz": -60
    },
    "id": "CCHoSe_S1VWW",
    "outputId": "76846433-ea33-4221-db39-2607b277fe73"
   },
   "outputs": [
    {
     "data": {
      "text/plain": [
       "<matplotlib.axes._subplots.AxesSubplot at 0x7ff01effd400>"
      ]
     },
     "execution_count": 47,
     "metadata": {
      "tags": []
     },
     "output_type": "execute_result"
    },
    {
     "data": {
      "image/png": "[encoded data removed]",
      "text/plain": [
       "<Figure size 432x288 with 1 Axes>"
      ]
     },
     "metadata": {
      "tags": []
     },
     "output_type": "display_data"
    }
   ],
   "source": [
    "np.log1p(df['prices_amountmin']).hist(bins=100)"
   ]
  },
  {
   "cell_type": "code",
   "execution_count": 48,
   "metadata": {
    "colab": {
     "base_uri": "https://localhost:8080/",
     "height": 34
    },
    "colab_type": "code",
    "executionInfo": {
     "elapsed": 524,
     "status": "ok",
     "timestamp": 1583162547315,
     "user": {
      "displayName": "Tomasz Garboliński",
      "photoUrl": "",
      "userId": "14842700098904817277"
     },
     "user_tz": -60
    },
    "id": "3nlYzn7S1lnT",
    "outputId": "31424d11-e1dd-4494-b13f-51434ec8db7b"
   },
   "outputs": [
    {
     "data": {
      "text/plain": [
       "58.01120240700219"
      ]
     },
     "execution_count": 48,
     "metadata": {
      "tags": []
     },
     "output_type": "execute_result"
    }
   ],
   "source": [
    "y_true = df['prices_amountmin']\n",
    "y_pred = [np.median(y_true)] * y_true.shape[0]\n",
    "\n",
    "mean_absolute_error(y_true, y_pred)"
   ]
  },
  {
   "cell_type": "code",
   "execution_count": 49,
   "metadata": {
    "colab": {
     "base_uri": "https://localhost:8080/",
     "height": 34
    },
    "colab_type": "code",
    "executionInfo": {
     "elapsed": 848,
     "status": "ok",
     "timestamp": 1583162584891,
     "user": {
      "displayName": "Tomasz Garboliński",
      "photoUrl": "",
      "userId": "14842700098904817277"
     },
     "user_tz": -60
    },
    "id": "NuRTfNg711lz",
    "outputId": "730d914a-1cd5-4b45-a6ce-e79dc43a7a50"
   },
   "outputs": [
    {
     "data": {
      "text/plain": [
       "64.95"
      ]
     },
     "execution_count": 49,
     "metadata": {
      "tags": []
     },
     "output_type": "execute_result"
    }
   ],
   "source": [
    "np.median(y_true)"
   ]
  },
  {
   "cell_type": "code",
   "execution_count": 50,
   "metadata": {
    "colab": {
     "base_uri": "https://localhost:8080/",
     "height": 34
    },
    "colab_type": "code",
    "executionInfo": {
     "elapsed": 501,
     "status": "ok",
     "timestamp": 1583162619101,
     "user": {
      "displayName": "Tomasz Garboliński",
      "photoUrl": "",
      "userId": "14842700098904817277"
     },
     "user_tz": -60
    },
    "id": "Qmmg_Vqm1-rP",
    "outputId": "192b38d0-2027-44d0-946d-dcfe8d093706"
   },
   "outputs": [
    {
     "data": {
      "text/plain": [
       "64.95"
      ]
     },
     "execution_count": 50,
     "metadata": {
      "tags": []
     },
     "output_type": "execute_result"
    }
   ],
   "source": [
    "np.percentile(y_true, 50)"
   ]
  },
  {
   "cell_type": "code",
   "execution_count": 53,
   "metadata": {
    "colab": {
     "base_uri": "https://localhost:8080/",
     "height": 34
    },
    "colab_type": "code",
    "executionInfo": {
     "elapsed": 667,
     "status": "ok",
     "timestamp": 1583162783349,
     "user": {
      "displayName": "Tomasz Garboliński",
      "photoUrl": "",
      "userId": "14842700098904817277"
     },
     "user_tz": -60
    },
    "id": "kQJVQdHI2hCk",
    "outputId": "edf0f9c9-8d75-4c32-b30d-c74e54ec5270"
   },
   "outputs": [
    {
     "data": {
      "text/plain": [
       "62.92811169273113"
      ]
     },
     "execution_count": 53,
     "metadata": {
      "tags": []
     },
     "output_type": "execute_result"
    }
   ],
   "source": [
    "np.exp(np.mean(np.log1p(y_true))) -1"
   ]
  },
  {
   "cell_type": "code",
   "execution_count": 54,
   "metadata": {
    "colab": {
     "base_uri": "https://localhost:8080/",
     "height": 34
    },
    "colab_type": "code",
    "executionInfo": {
     "elapsed": 563,
     "status": "ok",
     "timestamp": 1583162854083,
     "user": {
      "displayName": "Tomasz Garboliński",
      "photoUrl": "",
      "userId": "14842700098904817277"
     },
     "user_tz": -60
    },
    "id": "gwkBruml2HHZ",
    "outputId": "62607c5d-d390-44f5-df26-92f8fb859789"
   },
   "outputs": [
    {
     "data": {
      "text/plain": [
       "58.03539547661041"
      ]
     },
     "execution_count": 54,
     "metadata": {
      "tags": []
     },
     "output_type": "execute_result"
    }
   ],
   "source": [
    "y_true = df['prices_amountmin']\n",
    "price_log_mean = np.expm1(np.mean(np.log1p(y_true)))\n",
    "y_pred = [price_log_mean] * y_true.shape[0]\n",
    "\n",
    "mean_absolute_error(y_true, y_pred)"
   ]
  },
  {
   "cell_type": "code",
   "execution_count": 55,
   "metadata": {
    "colab": {
     "base_uri": "https://localhost:8080/",
     "height": 225
    },
    "colab_type": "code",
    "executionInfo": {
     "elapsed": 608,
     "status": "ok",
     "timestamp": 1583162900022,
     "user": {
      "displayName": "Tomasz Garboliński",
      "photoUrl": "",
      "userId": "14842700098904817277"
     },
     "user_tz": -60
    },
    "id": "2qZqU13d3AeK",
    "outputId": "b7ca86e5-4533-404d-8a80-8bb7f9cacafc"
   },
   "outputs": [
    {
     "data": {
      "text/plain": [
       "Index(['id', 'asins', 'brand', 'categories', 'colors', 'count', 'dateadded',\n",
       "       'dateupdated', 'descriptions', 'dimension', 'ean', 'features',\n",
       "       'flavors', 'imageurls', 'isbn', 'keys', 'manufacturer',\n",
       "       'manufacturernumber', 'merchants', 'name', 'prices_amountmin',\n",
       "       'prices_amountmax', 'prices_availability', 'prices_color',\n",
       "       'prices_condition', 'prices_count', 'prices_currency',\n",
       "       'prices_dateadded', 'prices_dateseen', 'prices_flavor', 'prices_issale',\n",
       "       'prices_merchant', 'prices_offer', 'prices_returnpolicy',\n",
       "       'prices_shipping', 'prices_size', 'prices_source', 'prices_sourceurls',\n",
       "       'prices_warranty', 'quantities', 'reviews', 'sizes', 'skus',\n",
       "       'sourceurls', 'upc', 'vin', 'websiteids', 'weight'],\n",
       "      dtype='object')"
      ]
     },
     "execution_count": 55,
     "metadata": {
      "tags": []
     },
     "output_type": "execute_result"
    }
   ],
   "source": [
    "df.columns"
   ]
  },
  {
   "cell_type": "code",
   "execution_count": 86,
   "metadata": {
    "colab": {
     "base_uri": "https://localhost:8080/",
     "height": 459
    },
    "colab_type": "code",
    "executionInfo": {
     "elapsed": 571,
     "status": "ok",
     "timestamp": 1583164887384,
     "user": {
      "displayName": "Tomasz Garboliński",
      "photoUrl": "",
      "userId": "14842700098904817277"
     },
     "user_tz": -60
    },
    "id": "1Qy7Ww5E-vFm",
    "outputId": "dcec04fa-4e61-486c-ac90-db2f887e0514"
   },
   "outputs": [
    {
     "data": {
      "text/html": [
       "<div>\n",
       "<style scoped>\n",
       "    .dataframe tbody tr th:only-of-type {\n",
       "        vertical-align: middle;\n",
       "    }\n",
       "\n",
       "    .dataframe tbody tr th {\n",
       "        vertical-align: top;\n",
       "    }\n",
       "\n",
       "    .dataframe thead th {\n",
       "        text-align: right;\n",
       "    }\n",
       "</style>\n",
       "<table border=\"1\" class=\"dataframe\">\n",
       "  <thead>\n",
       "    <tr style=\"text-align: right;\">\n",
       "      <th></th>\n",
       "      <th>id</th>\n",
       "      <th>asins</th>\n",
       "      <th>brand</th>\n",
       "      <th>categories</th>\n",
       "      <th>colors</th>\n",
       "      <th>count</th>\n",
       "      <th>dateadded</th>\n",
       "      <th>dateupdated</th>\n",
       "      <th>descriptions</th>\n",
       "      <th>dimension</th>\n",
       "      <th>ean</th>\n",
       "      <th>features</th>\n",
       "      <th>flavors</th>\n",
       "      <th>imageurls</th>\n",
       "      <th>isbn</th>\n",
       "      <th>keys</th>\n",
       "      <th>manufacturer</th>\n",
       "      <th>manufacturernumber</th>\n",
       "      <th>merchants</th>\n",
       "      <th>name</th>\n",
       "      <th>prices_amountmin</th>\n",
       "      <th>prices_amountmax</th>\n",
       "      <th>prices_availability</th>\n",
       "      <th>prices_color</th>\n",
       "      <th>prices_condition</th>\n",
       "      <th>prices_count</th>\n",
       "      <th>prices_currency</th>\n",
       "      <th>prices_dateadded</th>\n",
       "      <th>prices_dateseen</th>\n",
       "      <th>prices_flavor</th>\n",
       "      <th>prices_issale</th>\n",
       "      <th>prices_merchant</th>\n",
       "      <th>prices_offer</th>\n",
       "      <th>prices_returnpolicy</th>\n",
       "      <th>prices_shipping</th>\n",
       "      <th>prices_size</th>\n",
       "      <th>prices_source</th>\n",
       "      <th>prices_sourceurls</th>\n",
       "      <th>prices_warranty</th>\n",
       "      <th>quantities</th>\n",
       "      <th>reviews</th>\n",
       "      <th>sizes</th>\n",
       "      <th>skus</th>\n",
       "      <th>sourceurls</th>\n",
       "      <th>upc</th>\n",
       "      <th>vin</th>\n",
       "      <th>websiteids</th>\n",
       "      <th>weight</th>\n",
       "      <th>brand_cat</th>\n",
       "      <th>manufacturer_cat</th>\n",
       "    </tr>\n",
       "  </thead>\n",
       "  <tbody>\n",
       "    <tr>\n",
       "      <th>2772</th>\n",
       "      <td>AVpfC6DHilAPnD_xTvQv</td>\n",
       "      <td>NaN</td>\n",
       "      <td>Norcross Safety Prod</td>\n",
       "      <td>Men's Boots,Shoes,Men's Shoes,Clothing</td>\n",
       "      <td>Brown</td>\n",
       "      <td>NaN</td>\n",
       "      <td>2017-01-27T01:30:20Z</td>\n",
       "      <td>2017-01-27T01:30:20Z</td>\n",
       "      <td>[{\"dateSeen\":[\"2017-01-27T01:30:20Z\"],\"sourceU...</td>\n",
       "      <td>NaN</td>\n",
       "      <td>8.618918e+10</td>\n",
       "      <td>[{\"key\":\"Material\",\"value\":[\"PVC\"]},{\"key\":\"Ge...</td>\n",
       "      <td>NaN</td>\n",
       "      <td>https://i5.walmartimages.com/asr/695fca11-8ebf...</td>\n",
       "      <td>NaN</td>\n",
       "      <td>norcrosssafetyprod/1880513,086189180313,008618...</td>\n",
       "      <td>Norcross Safety Prod</td>\n",
       "      <td>18805-13</td>\n",
       "      <td>[{\"dateSeen\":[\"2017-01-27T01:30:20Z\"],\"name\":\"...</td>\n",
       "      <td>Norcross Safety Prod 18805-13 Economy Rubber Boot</td>\n",
       "      <td>26.06</td>\n",
       "      <td>26.06</td>\n",
       "      <td>true</td>\n",
       "      <td>NaN</td>\n",
       "      <td>new</td>\n",
       "      <td>NaN</td>\n",
       "      <td>USD</td>\n",
       "      <td>2017-01-27T01:30:20Z</td>\n",
       "      <td>2015-04-07T11:21:44.419Z</td>\n",
       "      <td>NaN</td>\n",
       "      <td>false</td>\n",
       "      <td>SIM Supply Inc - Walmart.com</td>\n",
       "      <td>USD 3.15</td>\n",
       "      <td>NaN</td>\n",
       "      <td>NaN</td>\n",
       "      <td>NaN</td>\n",
       "      <td>NaN</td>\n",
       "      <td>http://www.walmart.com/ip/Sz-13-Brown-Boot-188...</td>\n",
       "      <td>NaN</td>\n",
       "      <td>NaN</td>\n",
       "      <td>NaN</td>\n",
       "      <td>NaN</td>\n",
       "      <td>NaN</td>\n",
       "      <td>https://www.walmart.com/ip/Sz-13-Brown-Boot-18...</td>\n",
       "      <td>086189180313</td>\n",
       "      <td>NaN</td>\n",
       "      <td>NaN</td>\n",
       "      <td>NaN</td>\n",
       "      <td>54</td>\n",
       "      <td>23</td>\n",
       "    </tr>\n",
       "    <tr>\n",
       "      <th>10553</th>\n",
       "      <td>AVpfWjZ5LJeJML437qkx</td>\n",
       "      <td>NaN</td>\n",
       "      <td>Kenneth Cole NY</td>\n",
       "      <td>Men's Dress Shoes,Shoes,Men's Shoes,Clothing</td>\n",
       "      <td>Gray</td>\n",
       "      <td>NaN</td>\n",
       "      <td>2017-01-12T06:16:39Z</td>\n",
       "      <td>2017-01-12T06:16:39Z</td>\n",
       "      <td>[{\"dateSeen\":[\"2017-01-12T06:16:39Z\"],\"sourceU...</td>\n",
       "      <td>NaN</td>\n",
       "      <td>8.884524e+11</td>\n",
       "      <td>[{\"key\":\"Material\",\"value\":[\"Suede\"]},{\"key\":\"...</td>\n",
       "      <td>NaN</td>\n",
       "      <td>https://i5.walmartimages.com/asr/7d38c25a-d446...</td>\n",
       "      <td>NaN</td>\n",
       "      <td>888452426988,0888452426988,kennethcoleny/kms6n...</td>\n",
       "      <td>Kenneth Cole NY</td>\n",
       "      <td>KMS6NU012-LHTGRY</td>\n",
       "      <td>[{\"dateSeen\":[\"2017-01-12T06:16:39Z\"],\"name\":\"...</td>\n",
       "      <td>Kenneth Cole Ny Click N Clack Men  Round Toe S...</td>\n",
       "      <td>117.99</td>\n",
       "      <td>117.99</td>\n",
       "      <td>NaN</td>\n",
       "      <td>NaN</td>\n",
       "      <td>NaN</td>\n",
       "      <td>NaN</td>\n",
       "      <td>USD</td>\n",
       "      <td>2017-01-12T06:16:39Z</td>\n",
       "      <td>2017-01-11T00:00:00Z</td>\n",
       "      <td>NaN</td>\n",
       "      <td>true</td>\n",
       "      <td>NaN</td>\n",
       "      <td>REDUCED USD 30.01</td>\n",
       "      <td>NaN</td>\n",
       "      <td>NaN</td>\n",
       "      <td>NaN</td>\n",
       "      <td>NaN</td>\n",
       "      <td>https://www.walmart.com/ip/Kenneth-Cole-NY-Cli...</td>\n",
       "      <td>NaN</td>\n",
       "      <td>NaN</td>\n",
       "      <td>NaN</td>\n",
       "      <td>11.5</td>\n",
       "      <td>NaN</td>\n",
       "      <td>https://www.walmart.com/ip/Kenneth-Cole-NY-Cli...</td>\n",
       "      <td>888452426988</td>\n",
       "      <td>NaN</td>\n",
       "      <td>NaN</td>\n",
       "      <td>NaN</td>\n",
       "      <td>102</td>\n",
       "      <td>39</td>\n",
       "    </tr>\n",
       "    <tr>\n",
       "      <th>12220</th>\n",
       "      <td>AVpfseMJLJeJML43CBFA</td>\n",
       "      <td>NaN</td>\n",
       "      <td>Isotoner</td>\n",
       "      <td>All Men's Shoes,Shoes,Men's Shoes,Clothing</td>\n",
       "      <td>Blue</td>\n",
       "      <td>NaN</td>\n",
       "      <td>2017-01-09T20:23:31Z</td>\n",
       "      <td>2017-01-09T20:23:31Z</td>\n",
       "      <td>[{\"dateSeen\":[\"2017-01-09T20:23:31Z\"],\"sourceU...</td>\n",
       "      <td>NaN</td>\n",
       "      <td>2.265366e+10</td>\n",
       "      <td>[{\"key\":\"Material\",\"value\":[\"Canvas\"]},{\"key\":...</td>\n",
       "      <td>NaN</td>\n",
       "      <td>https://i5.walmartimages.com/asr/3b7afd6d-11d5...</td>\n",
       "      <td>NaN</td>\n",
       "      <td>022653657127,0022653657127,isotoner/microterrynvy</td>\n",
       "      <td>Isotoner</td>\n",
       "      <td>MICROTERRY-NVY</td>\n",
       "      <td>[{\"dateSeen\":[\"2017-01-09T20:23:31Z\"],\"name\":\"...</td>\n",
       "      <td>Isotoner Microterry Slipper   Round Toe Canvas...</td>\n",
       "      <td>11.99</td>\n",
       "      <td>11.99</td>\n",
       "      <td>NaN</td>\n",
       "      <td>NaN</td>\n",
       "      <td>NaN</td>\n",
       "      <td>NaN</td>\n",
       "      <td>USD</td>\n",
       "      <td>2017-01-09T20:23:31Z</td>\n",
       "      <td>2017-01-09T00:00:00Z</td>\n",
       "      <td>NaN</td>\n",
       "      <td>true</td>\n",
       "      <td>NaN</td>\n",
       "      <td>CLEARANCE USD 23.01</td>\n",
       "      <td>NaN</td>\n",
       "      <td>NaN</td>\n",
       "      <td>NaN</td>\n",
       "      <td>NaN</td>\n",
       "      <td>https://www.walmart.com/ip/Isotoner-Microterry...</td>\n",
       "      <td>NaN</td>\n",
       "      <td>NaN</td>\n",
       "      <td>NaN</td>\n",
       "      <td>8,13</td>\n",
       "      <td>NaN</td>\n",
       "      <td>https://www.walmart.com/ip/Isotoner-Microterry...</td>\n",
       "      <td>022653657127</td>\n",
       "      <td>NaN</td>\n",
       "      <td>NaN</td>\n",
       "      <td>NaN</td>\n",
       "      <td>80</td>\n",
       "      <td>31</td>\n",
       "    </tr>\n",
       "  </tbody>\n",
       "</table>\n",
       "</div>"
      ],
      "text/plain": [
       "                         id asins  ... brand_cat manufacturer_cat\n",
       "2772   AVpfC6DHilAPnD_xTvQv   NaN  ...        54               23\n",
       "10553  AVpfWjZ5LJeJML437qkx   NaN  ...       102               39\n",
       "12220  AVpfseMJLJeJML43CBFA   NaN  ...        80               31\n",
       "\n",
       "[3 rows x 50 columns]"
      ]
     },
     "execution_count": 86,
     "metadata": {
      "tags": []
     },
     "output_type": "execute_result"
    }
   ],
   "source": [
    "df.sample(3)"
   ]
  },
  {
   "cell_type": "code",
   "execution_count": 56,
   "metadata": {
    "colab": {
     "base_uri": "https://localhost:8080/",
     "height": 225
    },
    "colab_type": "code",
    "executionInfo": {
     "elapsed": 740,
     "status": "ok",
     "timestamp": 1583162929183,
     "user": {
      "displayName": "Tomasz Garboliński",
      "photoUrl": "",
      "userId": "14842700098904817277"
     },
     "user_tz": -60
    },
    "id": "Ww0uNyH13Lqs",
    "outputId": "51990b9b-d0c8-4b5f-ed9f-4122a212121c"
   },
   "outputs": [
    {
     "data": {
      "text/plain": [
       "Nike            1709\n",
       "PUMA             574\n",
       "Ralph Lauren     524\n",
       "New Balance      361\n",
       "VANS             356\n",
       "                ... \n",
       "Perman             1\n",
       "Cobian             1\n",
       "AIR BALANCE        1\n",
       "Fit & Fresh        1\n",
       "3dRose LLC         1\n",
       "Name: brand, Length: 1856, dtype: int64"
      ]
     },
     "execution_count": 56,
     "metadata": {
      "tags": []
     },
     "output_type": "execute_result"
    }
   ],
   "source": [
    "df.brand.value_counts()"
   ]
  },
  {
   "cell_type": "code",
   "execution_count": 91,
   "metadata": {
    "colab": {
     "base_uri": "https://localhost:8080/",
     "height": 225
    },
    "colab_type": "code",
    "executionInfo": {
     "elapsed": 499,
     "status": "ok",
     "timestamp": 1583165178089,
     "user": {
      "displayName": "Tomasz Garboliński",
      "photoUrl": "",
      "userId": "14842700098904817277"
     },
     "user_tz": -60
    },
    "id": "nhQDYaGi_uQs",
    "outputId": "d7485286-6069-4bad-b0f1-31e8c991be0a"
   },
   "outputs": [
    {
     "data": {
      "text/plain": [
       "Black                             1364\n",
       "Brown                              746\n",
       "Blue                               421\n",
       "Multicolor                         415\n",
       "White                              252\n",
       "                                  ... \n",
       "WOLF GREY,TURQUOISE BLUE,BLACK       1\n",
       "BLACKWHITEANTHRACITE                 1\n",
       "Nude                                 1\n",
       "Brown,Dark Brown                     1\n",
       "Brown ,Bronco Brown                  1\n",
       "Name: colors, Length: 2080, dtype: int64"
      ]
     },
     "execution_count": 91,
     "metadata": {
      "tags": []
     },
     "output_type": "execute_result"
    }
   ],
   "source": [
    "df['colors'].value_counts()"
   ]
  },
  {
   "cell_type": "code",
   "execution_count": 92,
   "metadata": {
    "colab": {
     "base_uri": "https://localhost:8080/",
     "height": 121
    },
    "colab_type": "code",
    "executionInfo": {
     "elapsed": 598,
     "status": "ok",
     "timestamp": 1583165207101,
     "user": {
      "displayName": "Tomasz Garboliński",
      "photoUrl": "",
      "userId": "14842700098904817277"
     },
     "user_tz": -60
    },
    "id": "JGd5p37G_66I",
    "outputId": "b76b7ddd-a35b-4552-eccb-d88483b47b0d"
   },
   "outputs": [
    {
     "name": "stderr",
     "output_type": "stream",
     "text": [
      "/usr/local/lib/python3.6/dist-packages/ipykernel_launcher.py:1: SettingWithCopyWarning: \n",
      "A value is trying to be set on a copy of a slice from a DataFrame.\n",
      "Try using .loc[row_indexer,col_indexer] = value instead\n",
      "\n",
      "See the caveats in the documentation: http://pandas.pydata.org/pandas-docs/stable/user_guide/indexing.html#returning-a-view-versus-a-copy\n",
      "  \"\"\"Entry point for launching an IPython kernel.\n"
     ]
    }
   ],
   "source": [
    "df['colors_cat'] = df['colors'].factorize()[0]"
   ]
  },
  {
   "cell_type": "code",
   "execution_count": 59,
   "metadata": {
    "colab": {
     "base_uri": "https://localhost:8080/",
     "height": 121
    },
    "colab_type": "code",
    "executionInfo": {
     "elapsed": 676,
     "status": "ok",
     "timestamp": 1583163331428,
     "user": {
      "displayName": "Tomasz Garboliński",
      "photoUrl": "",
      "userId": "14842700098904817277"
     },
     "user_tz": -60
    },
    "id": "y2kY5m5n3Swi",
    "outputId": "4c0e171d-314a-4626-fb22-4a5aae72c1aa"
   },
   "outputs": [
    {
     "name": "stderr",
     "output_type": "stream",
     "text": [
      "/usr/local/lib/python3.6/dist-packages/ipykernel_launcher.py:1: SettingWithCopyWarning: \n",
      "A value is trying to be set on a copy of a slice from a DataFrame.\n",
      "Try using .loc[row_indexer,col_indexer] = value instead\n",
      "\n",
      "See the caveats in the documentation: http://pandas.pydata.org/pandas-docs/stable/user_guide/indexing.html#returning-a-view-versus-a-copy\n",
      "  \"\"\"Entry point for launching an IPython kernel.\n"
     ]
    }
   ],
   "source": [
    "df['brand_cat'] = df['brand'].factorize()[0]"
   ]
  },
  {
   "cell_type": "code",
   "execution_count": 0,
   "metadata": {
    "colab": {},
    "colab_type": "code",
    "id": "snenUf2y4fuu"
   },
   "outputs": [],
   "source": [
    "# feats = ['brand_cat']\n",
    "\n",
    "def run_model(feats):\n",
    "  X = df[ feats].values\n",
    "  y = df['prices_amountmin'].values\n",
    "\n",
    "  model = DecisionTreeRegressor(max_depth=5)\n",
    "\n",
    "  scores = cross_val_score(model, X, y, scoring='neg_mean_absolute_error')\n",
    "  return np.mean(scores), np.std(scores)"
   ]
  },
  {
   "cell_type": "code",
   "execution_count": 82,
   "metadata": {
    "colab": {
     "base_uri": "https://localhost:8080/",
     "height": 34
    },
    "colab_type": "code",
    "executionInfo": {
     "elapsed": 520,
     "status": "ok",
     "timestamp": 1583164667104,
     "user": {
      "displayName": "Tomasz Garboliński",
      "photoUrl": "",
      "userId": "14842700098904817277"
     },
     "user_tz": -60
    },
    "id": "S2BucDqU7_AF",
    "outputId": "c3994e6a-0170-402e-971d-f8757451a853"
   },
   "outputs": [
    {
     "data": {
      "text/plain": [
       "(-58.38655694633361, 4.223555478221712)"
      ]
     },
     "execution_count": 82,
     "metadata": {
      "tags": []
     },
     "output_type": "execute_result"
    }
   ],
   "source": [
    "run_model(['brand_cat'])"
   ]
  },
  {
   "cell_type": "code",
   "execution_count": 83,
   "metadata": {
    "colab": {
     "base_uri": "https://localhost:8080/",
     "height": 121
    },
    "colab_type": "code",
    "executionInfo": {
     "elapsed": 983,
     "status": "ok",
     "timestamp": 1583164755881,
     "user": {
      "displayName": "Tomasz Garboliński",
      "photoUrl": "",
      "userId": "14842700098904817277"
     },
     "user_tz": -60
    },
    "id": "RpzSFFds97Hp",
    "outputId": "688d3d5c-d221-45bd-8d9e-b7068c8d1fd1"
   },
   "outputs": [
    {
     "name": "stderr",
     "output_type": "stream",
     "text": [
      "/usr/local/lib/python3.6/dist-packages/ipykernel_launcher.py:1: SettingWithCopyWarning: \n",
      "A value is trying to be set on a copy of a slice from a DataFrame.\n",
      "Try using .loc[row_indexer,col_indexer] = value instead\n",
      "\n",
      "See the caveats in the documentation: http://pandas.pydata.org/pandas-docs/stable/user_guide/indexing.html#returning-a-view-versus-a-copy\n",
      "  \"\"\"Entry point for launching an IPython kernel.\n"
     ]
    }
   ],
   "source": [
    "df['manufacturer_cat'] = df['manufacturer'].factorize()[0] "
   ]
  },
  {
   "cell_type": "code",
   "execution_count": 84,
   "metadata": {
    "colab": {
     "base_uri": "https://localhost:8080/",
     "height": 34
    },
    "colab_type": "code",
    "executionInfo": {
     "elapsed": 1207,
     "status": "ok",
     "timestamp": 1583164785988,
     "user": {
      "displayName": "Tomasz Garboliński",
      "photoUrl": "",
      "userId": "14842700098904817277"
     },
     "user_tz": -60
    },
    "id": "NX8Y3Ovm-QrY",
    "outputId": "8584b82f-0669-4bfd-ae93-12ebc75def50"
   },
   "outputs": [
    {
     "data": {
      "text/plain": [
       "(-63.133649278023746, 3.394307434888982)"
      ]
     },
     "execution_count": 84,
     "metadata": {
      "tags": []
     },
     "output_type": "execute_result"
    }
   ],
   "source": [
    "run_model(['manufacturer_cat'])"
   ]
  },
  {
   "cell_type": "code",
   "execution_count": 85,
   "metadata": {
    "colab": {
     "base_uri": "https://localhost:8080/",
     "height": 34
    },
    "colab_type": "code",
    "executionInfo": {
     "elapsed": 1012,
     "status": "ok",
     "timestamp": 1583164812236,
     "user": {
      "displayName": "Tomasz Garboliński",
      "photoUrl": "",
      "userId": "14842700098904817277"
     },
     "user_tz": -60
    },
    "id": "f8KMv5ui-X82",
    "outputId": "33cf6478-4b52-475b-9a27-9493e3600580"
   },
   "outputs": [
    {
     "data": {
      "text/plain": [
       "(-58.53930419908595, 4.31122323161543)"
      ]
     },
     "execution_count": 85,
     "metadata": {
      "tags": []
     },
     "output_type": "execute_result"
    }
   ],
   "source": [
    "run_model(['brand_cat', 'manufacturer_cat'])"
   ]
  },
  {
   "cell_type": "code",
   "execution_count": 93,
   "metadata": {
    "colab": {
     "base_uri": "https://localhost:8080/",
     "height": 34
    },
    "colab_type": "code",
    "executionInfo": {
     "elapsed": 588,
     "status": "ok",
     "timestamp": 1583165232498,
     "user": {
      "displayName": "Tomasz Garboliński",
      "photoUrl": "",
      "userId": "14842700098904817277"
     },
     "user_tz": -60
    },
    "id": "pDAls2V9-ebV",
    "outputId": "5e70c47c-0445-4272-ec9e-c8aad30ea882"
   },
   "outputs": [
    {
     "data": {
      "text/plain": [
       "(-62.72404880129134, 5.053649873215771)"
      ]
     },
     "execution_count": 93,
     "metadata": {
      "tags": []
     },
     "output_type": "execute_result"
    }
   ],
   "source": [
    "run_model(['colors_cat'])"
   ]
  },
  {
   "cell_type": "code",
   "execution_count": 94,
   "metadata": {
    "colab": {
     "base_uri": "https://localhost:8080/",
     "height": 34
    },
    "colab_type": "code",
    "executionInfo": {
     "elapsed": 593,
     "status": "ok",
     "timestamp": 1583165255272,
     "user": {
      "displayName": "Tomasz Garboliński",
      "photoUrl": "",
      "userId": "14842700098904817277"
     },
     "user_tz": -60
    },
    "id": "KzC1W-kRAFJv",
    "outputId": "f99016f9-5fe5-4421-ec93-ab8354352e9c"
   },
   "outputs": [
    {
     "data": {
      "text/plain": [
       "(-61.76723637561054, 5.7432228405259345)"
      ]
     },
     "execution_count": 94,
     "metadata": {
      "tags": []
     },
     "output_type": "execute_result"
    }
   ],
   "source": [
    "run_model(['brand_cat', 'manufacturer_cat', 'colors_cat'])"
   ]
  },
  {
   "cell_type": "code",
   "execution_count": 95,
   "metadata": {
    "colab": {
     "base_uri": "https://localhost:8080/",
     "height": 34
    },
    "colab_type": "code",
    "executionInfo": {
     "elapsed": 1933,
     "status": "ok",
     "timestamp": 1583165574460,
     "user": {
      "displayName": "Tomasz Garboliński",
      "photoUrl": "",
      "userId": "14842700098904817277"
     },
     "user_tz": -60
    },
    "id": "ziDOIV37AKsZ",
    "outputId": "ab1edf5e-437e-43fd-e51a-a581df7b01c4"
   },
   "outputs": [
    {
     "name": "stdout",
     "output_type": "stream",
     "text": [
      "\u001b[0m\u001b[01;34mdata\u001b[0m/  HelloGithub.ipynb  LICENSE  \u001b[01;34mMatrix_one\u001b[0m/  README.md\n"
     ]
    }
   ],
   "source": [
    "ls"
   ]
  },
  {
   "cell_type": "code",
   "execution_count": 96,
   "metadata": {
    "colab": {
     "base_uri": "https://localhost:8080/",
     "height": 34
    },
    "colab_type": "code",
    "executionInfo": {
     "elapsed": 802,
     "status": "ok",
     "timestamp": 1583165584096,
     "user": {
      "displayName": "Tomasz Garboliński",
      "photoUrl": "",
      "userId": "14842700098904817277"
     },
     "user_tz": -60
    },
    "id": "Lsq5OHp4BYMd",
    "outputId": "351dd667-5c4e-42e6-d29f-09db3c5656b7"
   },
   "outputs": [
    {
     "name": "stdout",
     "output_type": "stream",
     "text": [
      "/content/drive/My Drive/Colab Notebooks/dw_matrix/Matrix_one\n"
     ]
    }
   ],
   "source": [
    "cd Matrix_one/"
   ]
  },
  {
   "cell_type": "code",
   "execution_count": 97,
   "metadata": {
    "colab": {
     "base_uri": "https://localhost:8080/",
     "height": 34
    },
    "colab_type": "code",
    "executionInfo": {
     "elapsed": 1709,
     "status": "ok",
     "timestamp": 1583165587688,
     "user": {
      "displayName": "Tomasz Garboliński",
      "photoUrl": "",
      "userId": "14842700098904817277"
     },
     "user_tz": -60
    },
    "id": "hqCeH8gMBa5V",
    "outputId": "357d4e9a-3332-4746-a3e5-3c257761a8ed"
   },
   "outputs": [
    {
     "name": "stdout",
     "output_type": "stream",
     "text": [
      "day3.ipynb  day4.ipynb\n"
     ]
    }
   ],
   "source": [
    "ls"
   ]
  },
  {
   "cell_type": "code",
   "execution_count": 0,
   "metadata": {
    "colab": {},
    "colab_type": "code",
    "id": "HbqjtgEOBblN"
   },
   "outputs": [],
   "source": [
    "!g"
   ]
  }
 ],
 "metadata": {
  "colab": {
   "authorship_tag": "ABX9TyPUV+xsOmm3e1P5cIPjATyB",
   "collapsed_sections": [],
   "mount_file_id": "1JPg4Y3FGL-kit1HpHYF8VXWI-MomOfzb",
   "name": "day4.ipynb",
   "provenance": []
  },
  "kernelspec": {
   "display_name": "Python 3",
   "language": "python",
   "name": "python3"
  },
  "language_info": {
   "codemirror_mode": {
    "name": "ipython",
    "version": 3
   },
   "file_extension": ".py",
   "mimetype": "text/x-python",
   "name": "python",
   "nbconvert_exporter": "python",
   "pygments_lexer": "ipython3",
   "version": "3.6.8"
  }
 },
 "nbformat": 4,
 "nbformat_minor": 1
}
