{
 "cells": [
  {
   "cell_type": "code",
   "execution_count": 1,
   "metadata": {
    "colab": {
     "base_uri": "https://localhost:8080/",
     "height": 298
    },
    "colab_type": "code",
    "executionInfo": {
     "elapsed": 4969,
     "status": "ok",
     "timestamp": 1583180675039,
     "user": {
      "displayName": "Tomasz Garboliński",
      "photoUrl": "",
      "userId": "14842700098904817277"
     },
     "user_tz": -60
    },
    "id": "eFVCNaj86fM8",
    "outputId": "6017a628-a528-4d3f-b7ec-f441d6166e00"
   },
   "outputs": [],
   "source": [
    "# !pip install eli5"
   ]
  },
  {
   "cell_type": "code",
   "execution_count": 1,
   "metadata": {
    "colab": {},
    "colab_type": "code",
    "id": "5kCTfaRv6v_a"
   },
   "outputs": [
    {
     "name": "stderr",
     "output_type": "stream",
     "text": [
      "/home/tomek/myenv_one/lib/python3.6/site-packages/sklearn/utils/deprecation.py:144: FutureWarning: The sklearn.metrics.scorer module is  deprecated in version 0.22 and will be removed in version 0.24. The corresponding classes / functions should instead be imported from sklearn.metrics. Anything that cannot be imported from sklearn.metrics is now part of the private API.\n",
      "  warnings.warn(message, FutureWarning)\n",
      "/home/tomek/myenv_one/lib/python3.6/site-packages/sklearn/utils/deprecation.py:144: FutureWarning: The sklearn.feature_selection.base module is  deprecated in version 0.22 and will be removed in version 0.24. The corresponding classes / functions should instead be imported from sklearn.feature_selection. Anything that cannot be imported from sklearn.feature_selection is now part of the private API.\n",
      "  warnings.warn(message, FutureWarning)\n"
     ]
    }
   ],
   "source": [
    "import pandas as pd\n",
    "import numpy as np\n",
    "from sklearn.tree import DecisionTreeRegressor\n",
    "from sklearn.ensemble import RandomForestRegressor\n",
    "\n",
    "from sklearn.metrics import mean_absolute_error\n",
    "from sklearn.model_selection import cross_val_score\n",
    "\n",
    "import eli5\n",
    "from eli5.sklearn import PermutationImportance\n",
    "\n",
    "from ast import literal_eval\n",
    "from tqdm import tqdm_notebook"
   ]
  },
  {
   "cell_type": "code",
   "execution_count": 5,
   "metadata": {},
   "outputs": [
    {
     "name": "stdout",
     "output_type": "stream",
     "text": [
      "\u001b[0m\u001b[01;34mdata\u001b[0m/       day4.ipynb  HelloGithub.ipynb  README.md\r\n",
      "day3.ipynb  day5.ipynb  LICENSE\r\n"
     ]
    }
   ],
   "source": [
    "ls"
   ]
  },
  {
   "cell_type": "markdown",
   "metadata": {},
   "source": [
    "For colab "
   ]
  },
  {
   "cell_type": "code",
   "execution_count": 6,
   "metadata": {
    "colab": {
     "base_uri": "https://localhost:8080/",
     "height": 34
    },
    "colab_type": "code",
    "executionInfo": {
     "elapsed": 647,
     "status": "ok",
     "timestamp": 1583181219911,
     "user": {
      "displayName": "Tomasz Garboliński",
      "photoUrl": "",
      "userId": "14842700098904817277"
     },
     "user_tz": -60
    },
    "id": "Ft9o2xN18uv-",
    "outputId": "fa078392-2388-47f5-a2d3-ca80a636478f"
   },
   "outputs": [],
   "source": [
    "# cd \"/content/drive/My Drive/Colab Notebooks/dw_matrix\""
   ]
  },
  {
   "cell_type": "code",
   "execution_count": 2,
   "metadata": {
    "colab": {
     "base_uri": "https://localhost:8080/",
     "height": 34
    },
    "colab_type": "code",
    "executionInfo": {
     "elapsed": 1749,
     "status": "ok",
     "timestamp": 1583181279072,
     "user": {
      "displayName": "Tomasz Garboliński",
      "photoUrl": "",
      "userId": "14842700098904817277"
     },
     "user_tz": -60
    },
    "id": "TQ4HyXWL9ET1",
    "outputId": "0584c981-de2f-40d6-d5d5-481ddf919fe8"
   },
   "outputs": [
    {
     "name": "stdout",
     "output_type": "stream",
     "text": [
      "shoes_prices.csv  shoes_prices_filter.csv\r\n"
     ]
    }
   ],
   "source": [
    "ls data"
   ]
  },
  {
   "cell_type": "code",
   "execution_count": 3,
   "metadata": {
    "colab": {},
    "colab_type": "code",
    "id": "R_laTp509SaD"
   },
   "outputs": [],
   "source": [
    "df = pd.read_csv('data/shoes_prices_filter.csv', low_memory=False)"
   ]
  },
  {
   "cell_type": "code",
   "execution_count": 4,
   "metadata": {
    "colab": {
     "base_uri": "https://localhost:8080/",
     "height": 245
    },
    "colab_type": "code",
    "executionInfo": {
     "elapsed": 559,
     "status": "ok",
     "timestamp": 1583181421799,
     "user": {
      "displayName": "Tomasz Garboliński",
      "photoUrl": "",
      "userId": "14842700098904817277"
     },
     "user_tz": -60
    },
    "id": "ddEPPOlC9f_S",
    "outputId": "9f89cca2-c952-4bf1-c1be-5e7485e60917"
   },
   "outputs": [
    {
     "data": {
      "text/plain": [
       "Index(['id', 'asins', 'brand', 'categories', 'colors', 'count', 'dateadded',\n",
       "       'dateupdated', 'descriptions', 'dimension', 'ean', 'features',\n",
       "       'flavors', 'imageurls', 'isbn', 'keys', 'manufacturer',\n",
       "       'manufacturernumber', 'merchants', 'name', 'prices_amountmin',\n",
       "       'prices_amountmax', 'prices_availability', 'prices_color',\n",
       "       'prices_condition', 'prices_count', 'prices_currency',\n",
       "       'prices_dateadded', 'prices_dateseen', 'prices_flavor', 'prices_issale',\n",
       "       'prices_merchant', 'prices_offer', 'prices_returnpolicy',\n",
       "       'prices_shipping', 'prices_size', 'prices_source', 'prices_sourceurls',\n",
       "       'prices_warranty', 'quantities', 'reviews', 'sizes', 'skus',\n",
       "       'sourceurls', 'upc', 'vin', 'websiteids', 'weight'],\n",
       "      dtype='object')"
      ]
     },
     "execution_count": 4,
     "metadata": {},
     "output_type": "execute_result"
    }
   ],
   "source": [
    "df.columns"
   ]
  },
  {
   "cell_type": "code",
   "execution_count": 5,
   "metadata": {
    "colab": {},
    "colab_type": "code",
    "id": "TJb71o3O91nL"
   },
   "outputs": [],
   "source": [
    "def run_model(feats, model = DecisionTreeRegressor(max_depth=5)):\n",
    "  X = df[ feats].values\n",
    "  y = df['prices_amountmin'].values\n",
    "\n",
    "  scores = cross_val_score(model, X, y, scoring='neg_mean_absolute_error')\n",
    "  return np.mean(scores), np.std(scores)"
   ]
  },
  {
   "cell_type": "code",
   "execution_count": 6,
   "metadata": {
    "colab": {
     "base_uri": "https://localhost:8080/",
     "height": 34
    },
    "colab_type": "code",
    "executionInfo": {
     "elapsed": 587,
     "status": "ok",
     "timestamp": 1583182140938,
     "user": {
      "displayName": "Tomasz Garboliński",
      "photoUrl": "",
      "userId": "14842700098904817277"
     },
     "user_tz": -60
    },
    "id": "dLam13IF-v-o",
    "outputId": "fd6ae03b-06f1-4646-f68c-bf80d934b304"
   },
   "outputs": [],
   "source": [
    "df['brand_cat'] = df['brand'].map(lambda x: str(x).lower()).factorize()[0]\n"
   ]
  },
  {
   "cell_type": "code",
   "execution_count": 7,
   "metadata": {},
   "outputs": [
    {
     "data": {
      "text/plain": [
       "(-58.133398968282776, 4.206122611474276)"
      ]
     },
     "execution_count": 7,
     "metadata": {},
     "output_type": "execute_result"
    }
   ],
   "source": [
    "run_model(['brand_cat'])"
   ]
  },
  {
   "cell_type": "code",
   "execution_count": 8,
   "metadata": {
    "colab": {
     "base_uri": "https://localhost:8080/",
     "height": 34
    },
    "colab_type": "code",
    "executionInfo": {
     "elapsed": 4273,
     "status": "ok",
     "timestamp": 1583182153613,
     "user": {
      "displayName": "Tomasz Garboliński",
      "photoUrl": "",
      "userId": "14842700098904817277"
     },
     "user_tz": -60
    },
    "id": "oFmLp936_Fhb",
    "outputId": "041042b0-3f83-4437-ffc3-9850be59d72d"
   },
   "outputs": [
    {
     "data": {
      "text/plain": [
       "(-57.31783843165656, 4.181246596160967)"
      ]
     },
     "execution_count": 8,
     "metadata": {},
     "output_type": "execute_result"
    }
   ],
   "source": [
    "model = RandomForestRegressor(max_depth=5, n_estimators=100, random_state=0)\n",
    "run_model(['brand_cat'], model)"
   ]
  },
  {
   "cell_type": "code",
   "execution_count": 14,
   "metadata": {
    "colab": {
     "base_uri": "https://localhost:8080/",
     "height": 521
    },
    "colab_type": "code",
    "executionInfo": {
     "elapsed": 1043,
     "status": "ok",
     "timestamp": 1583181981703,
     "user": {
      "displayName": "Tomasz Garboliński",
      "photoUrl": "",
      "userId": "14842700098904817277"
     },
     "user_tz": -60
    },
    "id": "WToRSDab_ow7",
    "outputId": "13a3780c-b7cc-4f07-ea05-35f78ba368ab"
   },
   "outputs": [
    {
     "data": {
      "text/html": [
       "<div>\n",
       "<style scoped>\n",
       "    .dataframe tbody tr th:only-of-type {\n",
       "        vertical-align: middle;\n",
       "    }\n",
       "\n",
       "    .dataframe tbody tr th {\n",
       "        vertical-align: top;\n",
       "    }\n",
       "\n",
       "    .dataframe thead th {\n",
       "        text-align: right;\n",
       "    }\n",
       "</style>\n",
       "<table border=\"1\" class=\"dataframe\">\n",
       "  <thead>\n",
       "    <tr style=\"text-align: right;\">\n",
       "      <th></th>\n",
       "      <th>id</th>\n",
       "      <th>asins</th>\n",
       "      <th>brand</th>\n",
       "      <th>categories</th>\n",
       "      <th>colors</th>\n",
       "      <th>count</th>\n",
       "      <th>dateadded</th>\n",
       "      <th>dateupdated</th>\n",
       "      <th>descriptions</th>\n",
       "      <th>dimension</th>\n",
       "      <th>...</th>\n",
       "      <th>quantities</th>\n",
       "      <th>reviews</th>\n",
       "      <th>sizes</th>\n",
       "      <th>skus</th>\n",
       "      <th>sourceurls</th>\n",
       "      <th>upc</th>\n",
       "      <th>vin</th>\n",
       "      <th>websiteids</th>\n",
       "      <th>weight</th>\n",
       "      <th>brand_cat</th>\n",
       "    </tr>\n",
       "  </thead>\n",
       "  <tbody>\n",
       "    <tr>\n",
       "      <th>0</th>\n",
       "      <td>AVpfHrJ6ilAPnD_xVXOI</td>\n",
       "      <td>NaN</td>\n",
       "      <td>Josmo</td>\n",
       "      <td>Clothing,Shoes,Men's Shoes,All Men's Shoes</td>\n",
       "      <td>NaN</td>\n",
       "      <td>NaN</td>\n",
       "      <td>2016-11-07T00:45:12Z</td>\n",
       "      <td>2016-11-07T00:45:12Z</td>\n",
       "      <td>[{\"dateSeen\":[\"2016-11-07T00:45:12Z\"],\"sourceU...</td>\n",
       "      <td>NaN</td>\n",
       "      <td>...</td>\n",
       "      <td>NaN</td>\n",
       "      <td>NaN</td>\n",
       "      <td>NaN</td>\n",
       "      <td>NaN</td>\n",
       "      <td>https://www.walmart.com/ip/Josmo-8190-Plain-In...</td>\n",
       "      <td>6.993020e+11</td>\n",
       "      <td>NaN</td>\n",
       "      <td>NaN</td>\n",
       "      <td>NaN</td>\n",
       "      <td>0</td>\n",
       "    </tr>\n",
       "    <tr>\n",
       "      <th>1</th>\n",
       "      <td>AVpfHrJ6ilAPnD_xVXOI</td>\n",
       "      <td>NaN</td>\n",
       "      <td>Josmo</td>\n",
       "      <td>Clothing,Shoes,Men's Shoes,All Men's Shoes</td>\n",
       "      <td>NaN</td>\n",
       "      <td>NaN</td>\n",
       "      <td>2016-11-07T00:45:12Z</td>\n",
       "      <td>2016-11-07T00:45:12Z</td>\n",
       "      <td>[{\"dateSeen\":[\"2016-11-07T00:45:12Z\"],\"sourceU...</td>\n",
       "      <td>NaN</td>\n",
       "      <td>...</td>\n",
       "      <td>NaN</td>\n",
       "      <td>NaN</td>\n",
       "      <td>NaN</td>\n",
       "      <td>NaN</td>\n",
       "      <td>https://www.walmart.com/ip/Josmo-8190-Plain-In...</td>\n",
       "      <td>6.993020e+11</td>\n",
       "      <td>NaN</td>\n",
       "      <td>NaN</td>\n",
       "      <td>NaN</td>\n",
       "      <td>0</td>\n",
       "    </tr>\n",
       "    <tr>\n",
       "      <th>2</th>\n",
       "      <td>AVpfHsWP1cnluZ0-eVZ7</td>\n",
       "      <td>NaN</td>\n",
       "      <td>SERVUS BY HONEYWELL</td>\n",
       "      <td>All Men's Shoes,Shoes,Men's Shoes,Clothing</td>\n",
       "      <td>NaN</td>\n",
       "      <td>NaN</td>\n",
       "      <td>2016-06-14T04:29:57Z</td>\n",
       "      <td>2016-07-09T20:26:48Z</td>\n",
       "      <td>[{\"dateSeen\":[\"2016-07-09T20:26:48Z\"],\"sourceU...</td>\n",
       "      <td>NaN</td>\n",
       "      <td>...</td>\n",
       "      <td>NaN</td>\n",
       "      <td>NaN</td>\n",
       "      <td>NaN</td>\n",
       "      <td>NaN</td>\n",
       "      <td>http://www.walmart.com/ip/Studs-Shoe-Large-Pr-...</td>\n",
       "      <td>NaN</td>\n",
       "      <td>NaN</td>\n",
       "      <td>NaN</td>\n",
       "      <td>NaN</td>\n",
       "      <td>1</td>\n",
       "    </tr>\n",
       "    <tr>\n",
       "      <th>3</th>\n",
       "      <td>AVpfHsWP1cnluZ0-eVZ7</td>\n",
       "      <td>NaN</td>\n",
       "      <td>SERVUS BY HONEYWELL</td>\n",
       "      <td>All Men's Shoes,Shoes,Men's Shoes,Clothing</td>\n",
       "      <td>NaN</td>\n",
       "      <td>NaN</td>\n",
       "      <td>2016-06-14T04:29:57Z</td>\n",
       "      <td>2016-07-09T20:26:48Z</td>\n",
       "      <td>[{\"dateSeen\":[\"2016-07-09T20:26:48Z\"],\"sourceU...</td>\n",
       "      <td>NaN</td>\n",
       "      <td>...</td>\n",
       "      <td>NaN</td>\n",
       "      <td>NaN</td>\n",
       "      <td>NaN</td>\n",
       "      <td>NaN</td>\n",
       "      <td>http://www.walmart.com/ip/Studs-Shoe-Large-Pr-...</td>\n",
       "      <td>NaN</td>\n",
       "      <td>NaN</td>\n",
       "      <td>NaN</td>\n",
       "      <td>NaN</td>\n",
       "      <td>1</td>\n",
       "    </tr>\n",
       "    <tr>\n",
       "      <th>4</th>\n",
       "      <td>AVpfHsWP1cnluZ0-eVZ7</td>\n",
       "      <td>NaN</td>\n",
       "      <td>SERVUS BY HONEYWELL</td>\n",
       "      <td>All Men's Shoes,Shoes,Men's Shoes,Clothing</td>\n",
       "      <td>NaN</td>\n",
       "      <td>NaN</td>\n",
       "      <td>2016-06-14T04:29:57Z</td>\n",
       "      <td>2016-07-09T20:26:48Z</td>\n",
       "      <td>[{\"dateSeen\":[\"2016-07-09T20:26:48Z\"],\"sourceU...</td>\n",
       "      <td>NaN</td>\n",
       "      <td>...</td>\n",
       "      <td>NaN</td>\n",
       "      <td>NaN</td>\n",
       "      <td>NaN</td>\n",
       "      <td>NaN</td>\n",
       "      <td>http://www.walmart.com/ip/Studs-Shoe-Large-Pr-...</td>\n",
       "      <td>NaN</td>\n",
       "      <td>NaN</td>\n",
       "      <td>NaN</td>\n",
       "      <td>NaN</td>\n",
       "      <td>1</td>\n",
       "    </tr>\n",
       "  </tbody>\n",
       "</table>\n",
       "<p>5 rows × 49 columns</p>\n",
       "</div>"
      ],
      "text/plain": [
       "                     id asins                brand  \\\n",
       "0  AVpfHrJ6ilAPnD_xVXOI   NaN                Josmo   \n",
       "1  AVpfHrJ6ilAPnD_xVXOI   NaN                Josmo   \n",
       "2  AVpfHsWP1cnluZ0-eVZ7   NaN  SERVUS BY HONEYWELL   \n",
       "3  AVpfHsWP1cnluZ0-eVZ7   NaN  SERVUS BY HONEYWELL   \n",
       "4  AVpfHsWP1cnluZ0-eVZ7   NaN  SERVUS BY HONEYWELL   \n",
       "\n",
       "                                   categories colors  count  \\\n",
       "0  Clothing,Shoes,Men's Shoes,All Men's Shoes    NaN    NaN   \n",
       "1  Clothing,Shoes,Men's Shoes,All Men's Shoes    NaN    NaN   \n",
       "2  All Men's Shoes,Shoes,Men's Shoes,Clothing    NaN    NaN   \n",
       "3  All Men's Shoes,Shoes,Men's Shoes,Clothing    NaN    NaN   \n",
       "4  All Men's Shoes,Shoes,Men's Shoes,Clothing    NaN    NaN   \n",
       "\n",
       "              dateadded           dateupdated  \\\n",
       "0  2016-11-07T00:45:12Z  2016-11-07T00:45:12Z   \n",
       "1  2016-11-07T00:45:12Z  2016-11-07T00:45:12Z   \n",
       "2  2016-06-14T04:29:57Z  2016-07-09T20:26:48Z   \n",
       "3  2016-06-14T04:29:57Z  2016-07-09T20:26:48Z   \n",
       "4  2016-06-14T04:29:57Z  2016-07-09T20:26:48Z   \n",
       "\n",
       "                                        descriptions dimension  ...  \\\n",
       "0  [{\"dateSeen\":[\"2016-11-07T00:45:12Z\"],\"sourceU...       NaN  ...   \n",
       "1  [{\"dateSeen\":[\"2016-11-07T00:45:12Z\"],\"sourceU...       NaN  ...   \n",
       "2  [{\"dateSeen\":[\"2016-07-09T20:26:48Z\"],\"sourceU...       NaN  ...   \n",
       "3  [{\"dateSeen\":[\"2016-07-09T20:26:48Z\"],\"sourceU...       NaN  ...   \n",
       "4  [{\"dateSeen\":[\"2016-07-09T20:26:48Z\"],\"sourceU...       NaN  ...   \n",
       "\n",
       "   quantities reviews  sizes skus  \\\n",
       "0         NaN     NaN    NaN  NaN   \n",
       "1         NaN     NaN    NaN  NaN   \n",
       "2         NaN     NaN    NaN  NaN   \n",
       "3         NaN     NaN    NaN  NaN   \n",
       "4         NaN     NaN    NaN  NaN   \n",
       "\n",
       "                                          sourceurls           upc vin  \\\n",
       "0  https://www.walmart.com/ip/Josmo-8190-Plain-In...  6.993020e+11 NaN   \n",
       "1  https://www.walmart.com/ip/Josmo-8190-Plain-In...  6.993020e+11 NaN   \n",
       "2  http://www.walmart.com/ip/Studs-Shoe-Large-Pr-...           NaN NaN   \n",
       "3  http://www.walmart.com/ip/Studs-Shoe-Large-Pr-...           NaN NaN   \n",
       "4  http://www.walmart.com/ip/Studs-Shoe-Large-Pr-...           NaN NaN   \n",
       "\n",
       "  websiteids weight brand_cat  \n",
       "0        NaN    NaN         0  \n",
       "1        NaN    NaN         0  \n",
       "2        NaN    NaN         1  \n",
       "3        NaN    NaN         1  \n",
       "4        NaN    NaN         1  \n",
       "\n",
       "[5 rows x 49 columns]"
      ]
     },
     "execution_count": 14,
     "metadata": {},
     "output_type": "execute_result"
    }
   ],
   "source": [
    "df.head()"
   ]
  },
  {
   "cell_type": "code",
   "execution_count": 9,
   "metadata": {
    "colab": {
     "base_uri": "https://localhost:8080/",
     "height": 141
    },
    "colab_type": "code",
    "executionInfo": {
     "elapsed": 475,
     "status": "ok",
     "timestamp": 1583182281545,
     "user": {
      "displayName": "Tomasz Garboliński",
      "photoUrl": "",
      "userId": "14842700098904817277"
     },
     "user_tz": -60
    },
    "id": "4Wn6Scur_-Lw",
    "outputId": "a6d33b93-4337-4173-a914-e0e2f1223599"
   },
   "outputs": [
    {
     "data": {
      "text/plain": [
       "array(['[{\"key\":\"Gender\",\"value\":[\"Men\"]},{\"key\":\"Shoe Size\",\"value\":[\"M\"]},{\"key\":\"Shoe Category\",\"value\":[\"Men\\'s Shoes\"]},{\"key\":\"Color\",\"value\":[\"Multicolor\"]},{\"key\":\"Manufacturer Part Number\",\"value\":[\"8190-W-NAVY-7.5\"]},{\"key\":\"Brand\",\"value\":[\"Josmo\"]}]',\n",
       "       '[{\"key\":\"Gender\",\"value\":[\"Men\"]},{\"key\":\"Shoe Size\",\"value\":[\"M\"]},{\"key\":\"Shoe Category\",\"value\":[\"Men\\'s Shoes\"]},{\"key\":\"Color\",\"value\":[\"Multicolor\"]},{\"key\":\"Manufacturer Part Number\",\"value\":[\"8190-W-NAVY-7.5\"]},{\"key\":\"Brand\",\"value\":[\"Josmo\"]}]',\n",
       "       '[{\"key\":\"Gender\",\"value\":[\"Men\"]},{\"key\":\"Color\",\"value\":[\"Black\"]},{\"key\":\"Shipping Weight (in pounds)\",\"value\":[\"0.45\"]},{\"key\":\"Condition\",\"value\":[\"New\"]},{\"key\":\"Brand\",\"value\":[\"SERVUS BY HONEYWELL\"]},{\"key\":\"manufacturer_part_number\",\"value\":[\"ZSR101BLMLG\"]}]',\n",
       "       '[{\"key\":\"Gender\",\"value\":[\"Men\"]},{\"key\":\"Color\",\"value\":[\"Black\"]},{\"key\":\"Shipping Weight (in pounds)\",\"value\":[\"0.45\"]},{\"key\":\"Condition\",\"value\":[\"New\"]},{\"key\":\"Brand\",\"value\":[\"SERVUS BY HONEYWELL\"]},{\"key\":\"manufacturer_part_number\",\"value\":[\"ZSR101BLMLG\"]}]',\n",
       "       '[{\"key\":\"Gender\",\"value\":[\"Men\"]},{\"key\":\"Color\",\"value\":[\"Black\"]},{\"key\":\"Shipping Weight (in pounds)\",\"value\":[\"0.45\"]},{\"key\":\"Condition\",\"value\":[\"New\"]},{\"key\":\"Brand\",\"value\":[\"SERVUS BY HONEYWELL\"]},{\"key\":\"manufacturer_part_number\",\"value\":[\"ZSR101BLMLG\"]}]'],\n",
       "      dtype=object)"
      ]
     },
     "execution_count": 9,
     "metadata": {},
     "output_type": "execute_result"
    }
   ],
   "source": [
    "df.features.head().values"
   ]
  },
  {
   "cell_type": "code",
   "execution_count": 26,
   "metadata": {},
   "outputs": [
    {
     "data": {
      "text/plain": [
       "'Men'"
      ]
     },
     "execution_count": 26,
     "metadata": {},
     "output_type": "execute_result"
    }
   ],
   "source": [
    "str_dict = '[{\"key\":\"Gender\",\"value\":[\"Men\"]},{\"key\":\"Shoe Size\",\"value\":[\"M\"]},{\"key\":\"Shoe Category\",\"value\":[\"Men\\'s Shoes\"]},{\"key\":\"Color\",\"value\":[\"Multicolor\"]},{\"key\":\"Manufacturer Part Number\",\"value\":[\"8190-W-NAVY-7.5\"]},{\"key\":\"Brand\",\"value\":[\"Josmo\"]}]'\n",
    "literal_eval(str_dict)[0]['value'][0]"
   ]
  },
  {
   "cell_type": "code",
   "execution_count": 16,
   "metadata": {
    "colab": {
     "base_uri": "https://localhost:8080/",
     "height": 34
    },
    "colab_type": "code",
    "executionInfo": {
     "elapsed": 518,
     "status": "ok",
     "timestamp": 1583182596685,
     "user": {
      "displayName": "Tomasz Garboliński",
      "photoUrl": "",
      "userId": "14842700098904817277"
     },
     "user_tz": -60
    },
    "id": "-bH6wTCTBAxi",
    "outputId": "d430cb4c-d5b2-47d2-f18d-4556f18ac9cc"
   },
   "outputs": [
    {
     "data": {
      "text/plain": [
       "'n'"
      ]
     },
     "execution_count": 16,
     "metadata": {},
     "output_type": "execute_result"
    }
   ],
   "source": [
    "str_dict = '[{\"key\":\"Gender\",\"value\":[\"Men\"]},{\"key\":\"Shoe Size\",\"value\":[\"M\"]},{\"key\":\"Shoe Category\",\"value\":[\"Men\\'s Shoes\"]},{\"key\":\"Color\",\"value\":[\"Multicolor\"]},{\"key\":\"Manufacturer Part Number\",\"value\":[\"8190-W-NAVY-7.5\"]},{\"key\":\"Brand\",\"value\":[\"Josmo\"]}]'\n",
    "literal_eval(str_dict)[0]['key'][2]"
   ]
  },
  {
   "cell_type": "code",
   "execution_count": 27,
   "metadata": {
    "colab": {
     "base_uri": "https://localhost:8080/",
     "height": 132
    },
    "colab_type": "code",
    "executionInfo": {
     "elapsed": 1256,
     "status": "error",
     "timestamp": 1583183482700,
     "user": {
      "displayName": "Tomasz Garboliński",
      "photoUrl": "",
      "userId": "14842700098904817277"
     },
     "user_tz": -60
    },
    "id": "UfxUkWiVEuLj",
    "outputId": "a9e6f248-27d4-4c5b-fc28-1683adeffaca"
   },
   "outputs": [
    {
     "ename": "SyntaxError",
     "evalue": "EOL while scanning string literal (<unknown>, line 1)",
     "output_type": "error",
     "traceback": [
      "Traceback \u001b[0;36m(most recent call last)\u001b[0m:\n",
      "  File \u001b[1;32m\"/home/tomek/myenv_one/lib/python3.6/site-packages/IPython/core/interactiveshell.py\"\u001b[0m, line \u001b[1;32m3331\u001b[0m, in \u001b[1;35mrun_code\u001b[0m\n    exec(code_obj, self.user_global_ns, self.user_ns)\n",
      "  File \u001b[1;32m\"<ipython-input-27-521ed101f05a>\"\u001b[0m, line \u001b[1;32m2\u001b[0m, in \u001b[1;35m<module>\u001b[0m\n    literal_eval(str_dict.replace('\\\\\"','\"'))\n",
      "  File \u001b[1;32m\"/usr/lib/python3.6/ast.py\"\u001b[0m, line \u001b[1;32m48\u001b[0m, in \u001b[1;35mliteral_eval\u001b[0m\n    node_or_string = parse(node_or_string, mode='eval')\n",
      "\u001b[0;36m  File \u001b[0;32m\"/usr/lib/python3.6/ast.py\"\u001b[0;36m, line \u001b[0;32m35\u001b[0;36m, in \u001b[0;35mparse\u001b[0;36m\u001b[0m\n\u001b[0;31m    return compile(source, filename, mode, PyCF_ONLY_AST)\u001b[0m\n",
      "\u001b[0;36m  File \u001b[0;32m\"<unknown>\"\u001b[0;36m, line \u001b[0;32m1\u001b[0m\n\u001b[0;31m    {\"value\":[\"17\"\"]}\u001b[0m\n\u001b[0m                    ^\u001b[0m\n\u001b[0;31mSyntaxError\u001b[0m\u001b[0;31m:\u001b[0m EOL while scanning string literal\n"
     ]
    }
   ],
   "source": [
    "str_dict = '{\"value\":[\"17\\\\\"\"]}'\n",
    "literal_eval(str_dict.replace('\\\\\"','\"'))"
   ]
  },
  {
   "cell_type": "code",
   "execution_count": 10,
   "metadata": {
    "colab": {},
    "colab_type": "code",
    "id": "7Q47d9iAB0EN"
   },
   "outputs": [],
   "source": [
    "def parse_features(x):\n",
    "  output_dict = {}\n",
    "  if str(x) == 'nan': return output_dict\n",
    "  \n",
    "  features = literal_eval(x.replace('\\\\\"','\"'))\n",
    "  for item in features:\n",
    "    key = item['key'].lower().strip()\n",
    "    value = item['value'][0].lower().strip()\n",
    "\n",
    "    output_dict[key] = value\n",
    "\n",
    "  return output_dict\n",
    "\n",
    "df['features_parsed'] = df['features'].map(parse_features)"
   ]
  },
  {
   "cell_type": "code",
   "execution_count": 33,
   "metadata": {
    "colab": {
     "base_uri": "https://localhost:8080/",
     "height": 121
    },
    "colab_type": "code",
    "executionInfo": {
     "elapsed": 596,
     "status": "ok",
     "timestamp": 1583184054436,
     "user": {
      "displayName": "Tomasz Garboliński",
      "photoUrl": "",
      "userId": "14842700098904817277"
     },
     "user_tz": -60
    },
    "id": "AhHYDeuNDwPe",
    "outputId": "32efe8d3-94c7-4662-b088-c5a7853b10b6"
   },
   "outputs": [
    {
     "data": {
      "text/plain": [
       "0    {'gender': 'men', 'shoe size': 'm', 'shoe cate...\n",
       "1    {'gender': 'men', 'shoe size': 'm', 'shoe cate...\n",
       "2    {'gender': 'men', 'color': 'black', 'shipping ...\n",
       "3    {'gender': 'men', 'color': 'black', 'shipping ...\n",
       "4    {'gender': 'men', 'color': 'black', 'shipping ...\n",
       "Name: features_parsed, dtype: object"
      ]
     },
     "execution_count": 33,
     "metadata": {},
     "output_type": "execute_result"
    }
   ],
   "source": [
    "df['features_parsed'].head()"
   ]
  },
  {
   "cell_type": "code",
   "execution_count": 11,
   "metadata": {},
   "outputs": [
    {
     "data": {
      "text/plain": [
       "476"
      ]
     },
     "execution_count": 11,
     "metadata": {},
     "output_type": "execute_result"
    }
   ],
   "source": [
    "keys = set()\n",
    "df['features_parsed'].map( lambda x: keys.update(x.keys()) )\n",
    "len(keys)"
   ]
  },
  {
   "cell_type": "code",
   "execution_count": 15,
   "metadata": {},
   "outputs": [
    {
     "name": "stderr",
     "output_type": "stream",
     "text": [
      "/home/tomek/myenv_one/lib/python3.6/site-packages/ipykernel_launcher.py:4: TqdmDeprecationWarning: This function will be removed in tqdm==5.0.0\n",
      "Please use `tqdm.notebook.tqdm` instead of `tqdm.tqdm_notebook`\n",
      "  after removing the cwd from sys.path.\n"
     ]
    },
    {
     "data": {
      "application/vnd.jupyter.widget-view+json": {
       "model_id": "0a47ed2941124074ba007fe4fdffa94b",
       "version_major": 2,
       "version_minor": 0
      },
      "text/plain": [
       "HBox(children=(FloatProgress(value=0.0, max=476.0), HTML(value='')))"
      ]
     },
     "metadata": {},
     "output_type": "display_data"
    },
    {
     "name": "stdout",
     "output_type": "stream",
     "text": [
      "\n"
     ]
    }
   ],
   "source": [
    "def get_name_feat(key):\n",
    "    return 'feat_' + key\n",
    "\n",
    "for key in tqdm_notebook(keys):\n",
    "     df[get_name_feat(key)] = df.features_parsed.map(lambda feats: feats[key] if key in feats else np.nan)"
   ]
  },
  {
   "cell_type": "code",
   "execution_count": 16,
   "metadata": {},
   "outputs": [
    {
     "data": {
      "text/plain": [
       "Index(['id', 'asins', 'brand', 'categories', 'colors', 'count', 'dateadded',\n",
       "       'dateupdated', 'descriptions', 'dimension',\n",
       "       ...\n",
       "       'feat_length', 'feat_boot height', 'feat_quantity in set',\n",
       "       'feat_bridge', 'feat_age', 'feat_charger included',\n",
       "       'feat_battery voltage', 'feat_licensed', 'feat_frame depth',\n",
       "       'feat_waist'],\n",
       "      dtype='object', length=526)"
      ]
     },
     "execution_count": 16,
     "metadata": {},
     "output_type": "execute_result"
    }
   ],
   "source": [
    "df.columns"
   ]
  },
  {
   "cell_type": "code",
   "execution_count": 21,
   "metadata": {},
   "outputs": [],
   "source": [
    "keys_stat = {}\n",
    "for key in keys:\n",
    "    keys_stat[key] = df[False == df[get_name_feat(key)].isnull()].shape[0] / df.shape[0] * 100"
   ]
  },
  {
   "cell_type": "code",
   "execution_count": 30,
   "metadata": {},
   "outputs": [
    {
     "data": {
      "text/plain": [
       "{'gender': 50.17505470459519,\n",
       " 'brand': 48.62691466083151,\n",
       " 'color': 47.784463894967175,\n",
       " 'material': 34.9070021881838,\n",
       " 'manufacturer part number': 36.252735229759296}"
      ]
     },
     "execution_count": 30,
     "metadata": {},
     "output_type": "execute_result"
    }
   ],
   "source": [
    "{ k:v for k,v in keys_stat.items() if v > 30}"
   ]
  },
  {
   "cell_type": "code",
   "execution_count": 69,
   "metadata": {},
   "outputs": [],
   "source": [
    "df['feat_brand_cat'] = df['feat_brand'].factorize()[0]\n",
    "df['feat_color_cat'] = df['feat_color'].factorize()[0]\n",
    "df['feat_gender_cat'] = df['feat_gender'].factorize()[0]\n",
    "df['feat_material_cat'] = df['feat_material'].factorize()[0]\n",
    "\n",
    "df['feat_sport_cat'] = df['feat_sport'].factorize()[0]\n",
    "df['feat_style_cat'] = df['feat_style'].factorize()[0]\n",
    "\n",
    "for key in keys:\n",
    "    df[get_name_feat(key) + '_cat'] = df[get_name_feat(key)].factorize()[0]"
   ]
  },
  {
   "cell_type": "code",
   "execution_count": 37,
   "metadata": {},
   "outputs": [
    {
     "data": {
      "text/html": [
       "<div>\n",
       "<style scoped>\n",
       "    .dataframe tbody tr th:only-of-type {\n",
       "        vertical-align: middle;\n",
       "    }\n",
       "\n",
       "    .dataframe tbody tr th {\n",
       "        vertical-align: top;\n",
       "    }\n",
       "\n",
       "    .dataframe thead th {\n",
       "        text-align: right;\n",
       "    }\n",
       "</style>\n",
       "<table border=\"1\" class=\"dataframe\">\n",
       "  <thead>\n",
       "    <tr style=\"text-align: right;\">\n",
       "      <th></th>\n",
       "      <th>brand</th>\n",
       "      <th>feat_brand</th>\n",
       "    </tr>\n",
       "  </thead>\n",
       "  <tbody>\n",
       "    <tr>\n",
       "      <th>0</th>\n",
       "      <td>josmo</td>\n",
       "      <td>josmo</td>\n",
       "    </tr>\n",
       "    <tr>\n",
       "      <th>1</th>\n",
       "      <td>josmo</td>\n",
       "      <td>josmo</td>\n",
       "    </tr>\n",
       "    <tr>\n",
       "      <th>2</th>\n",
       "      <td>servus by honeywell</td>\n",
       "      <td>servus by honeywell</td>\n",
       "    </tr>\n",
       "    <tr>\n",
       "      <th>3</th>\n",
       "      <td>servus by honeywell</td>\n",
       "      <td>servus by honeywell</td>\n",
       "    </tr>\n",
       "    <tr>\n",
       "      <th>4</th>\n",
       "      <td>servus by honeywell</td>\n",
       "      <td>servus by honeywell</td>\n",
       "    </tr>\n",
       "    <tr>\n",
       "      <th>...</th>\n",
       "      <td>...</td>\n",
       "      <td>...</td>\n",
       "    </tr>\n",
       "    <tr>\n",
       "      <th>18267</th>\n",
       "      <td>easy usa</td>\n",
       "      <td>easy usa</td>\n",
       "    </tr>\n",
       "    <tr>\n",
       "      <th>18268</th>\n",
       "      <td>easy usa</td>\n",
       "      <td>easy usa</td>\n",
       "    </tr>\n",
       "    <tr>\n",
       "      <th>18273</th>\n",
       "      <td>roper</td>\n",
       "      <td>roper</td>\n",
       "    </tr>\n",
       "    <tr>\n",
       "      <th>18274</th>\n",
       "      <td>roper</td>\n",
       "      <td>roper</td>\n",
       "    </tr>\n",
       "    <tr>\n",
       "      <th>18276</th>\n",
       "      <td>fila</td>\n",
       "      <td>fila</td>\n",
       "    </tr>\n",
       "  </tbody>\n",
       "</table>\n",
       "<p>8846 rows × 2 columns</p>\n",
       "</div>"
      ],
      "text/plain": [
       "                     brand           feat_brand\n",
       "0                    josmo                josmo\n",
       "1                    josmo                josmo\n",
       "2      servus by honeywell  servus by honeywell\n",
       "3      servus by honeywell  servus by honeywell\n",
       "4      servus by honeywell  servus by honeywell\n",
       "...                    ...                  ...\n",
       "18267             easy usa             easy usa\n",
       "18268             easy usa             easy usa\n",
       "18273                roper                roper\n",
       "18274                roper                roper\n",
       "18276                 fila                 fila\n",
       "\n",
       "[8846 rows x 2 columns]"
      ]
     },
     "execution_count": 37,
     "metadata": {},
     "output_type": "execute_result"
    }
   ],
   "source": [
    "df['brand'] = df['brand'].map(lambda x: str(x).lower())\n",
    "df[df.brand == df.feat_brand][['brand', 'feat_brand']]"
   ]
  },
  {
   "cell_type": "code",
   "execution_count": 79,
   "metadata": {},
   "outputs": [],
   "source": [
    "feats = ['brand_cat',\n",
    "         'feat_brand_cat',\n",
    "         'feat_gender_cat',\n",
    "         'feat_material_cat',\n",
    "         'feat_style_cat',\n",
    "         'feat_sport_cat',\n",
    "         'feat_metal type_cat',\n",
    "         'feat_shape_cat']"
   ]
  },
  {
   "cell_type": "code",
   "execution_count": 80,
   "metadata": {},
   "outputs": [
    {
     "data": {
      "text/plain": [
       "(-57.27221513391722, 4.220678732756251)"
      ]
     },
     "execution_count": 80,
     "metadata": {},
     "output_type": "execute_result"
    }
   ],
   "source": [
    "model = RandomForestRegressor(max_depth=5, n_estimators=100)\n",
    "run_model(feats ,model)"
   ]
  },
  {
   "cell_type": "code",
   "execution_count": 70,
   "metadata": {},
   "outputs": [
    {
     "data": {
      "text/plain": [
       "['categories',\n",
       " 'brand_cat',\n",
       " 'feat_shoe category',\n",
       " 'feat_fabrication',\n",
       " 'feat_multi pack indicator',\n",
       " 'feat_clothing category',\n",
       " 'feat_location - city/state',\n",
       " 'feat_certifications and listings',\n",
       " 'feat_catalog',\n",
       " 'feat_recommended location',\n",
       " 'feat_location - country',\n",
       " 'feat_brand_cat',\n",
       " 'feat_color_cat',\n",
       " 'feat_gender_cat',\n",
       " 'feat_material_cat',\n",
       " 'feat_manufacturer part number_cat',\n",
       " 'feat_sport_cat',\n",
       " 'feat_style_cat',\n",
       " 'feat_frame style_cat',\n",
       " 'feat_wash_cat',\n",
       " 'feat_foot arch_cat',\n",
       " 'feat_recommended use_cat',\n",
       " 'feat_fabric type_cat',\n",
       " 'feat_subdial_cat',\n",
       " 'feat_age range_cat',\n",
       " 'feat_is recyclable_cat',\n",
       " 'feat_features & fastening_cat',\n",
       " 'feat_100% adidas authentic_cat',\n",
       " 'feat_what includes_cat',\n",
       " 'feat_applicable_cat',\n",
       " 'feat_fits most screen size_cat',\n",
       " 'feat_made in_cat',\n",
       " 'feat_case type_cat',\n",
       " 'feat_disclosures_cat',\n",
       " 'feat_contains cubic zirconia_cat',\n",
       " 'feat_ground_cat',\n",
       " 'feat_chest size_cat',\n",
       " 'feat_high visibility (ansi compliant)_cat',\n",
       " 'feat_euro size_cat',\n",
       " 'feat_contained battery type_cat',\n",
       " 'feat_closure_cat',\n",
       " 'feat_style number_cat',\n",
       " 'feat_cushioning_cat',\n",
       " 'feat_light weight_cat',\n",
       " 'feat_jewelry setting_cat',\n",
       " 'feat_fastener_cat',\n",
       " 'feat_autographed_cat',\n",
       " 'feat_lined_cat',\n",
       " 'feat_diamond color_cat',\n",
       " 'feat_inv_cat',\n",
       " 'feat_capacity_cat',\n",
       " 'feat_leg opening:_cat',\n",
       " 'feat_power type_cat',\n",
       " 'feat_release_cat',\n",
       " 'feat_temple length_cat',\n",
       " 'feat_necklace type_cat',\n",
       " 'feat_picture_cat',\n",
       " 'feat_main colour_cat',\n",
       " 'feat_country of origin assembly:_cat',\n",
       " 'feat_waterproof_cat',\n",
       " 'feat_frame shape_cat',\n",
       " 'feat_eye size:_cat',\n",
       " 'feat_has adaptive lenses_cat',\n",
       " 'feat_pattern or design_cat',\n",
       " 'feat_isbn_cat',\n",
       " 'feat_fuel type_cat',\n",
       " 'feat_attachment_cat',\n",
       " 'feat_color family_cat',\n",
       " 'feat_nike id_cat',\n",
       " 'feat_gold karat_cat',\n",
       " 'feat_package_cat',\n",
       " 'feat_leg_cat',\n",
       " 'feat_walmart no._cat',\n",
       " 'feat_watch style_cat',\n",
       " 'feat_diamond clarity_cat',\n",
       " 'feat_size/dimensions_cat',\n",
       " 'feat_smart watch_cat',\n",
       " 'feat_age segment_cat',\n",
       " 'feat_is lined_cat',\n",
       " 'feat_hairstyle_cat',\n",
       " 'feat_band manufacturer_cat',\n",
       " 'feat_handbag style_cat',\n",
       " 'feat_product #_cat',\n",
       " 'feat_item color_cat',\n",
       " 'feat_sock size_cat',\n",
       " 'feat_water resistant_cat',\n",
       " 'feat_audience_cat',\n",
       " 'feat_features_cat',\n",
       " 'feat_batteries required_cat',\n",
       " 'feat_watch shape_cat',\n",
       " 'feat_transactionid_cat',\n",
       " 'feat_sock style_cat',\n",
       " 'feat_shade_cat',\n",
       " 'feat_airport friendly_cat',\n",
       " 'feat_count_cat',\n",
       " 'feat_era_cat',\n",
       " 'feat_hardsided or softsided_cat',\n",
       " 'feat_best sellers rank_cat',\n",
       " 'feat_eyewear frame style_cat',\n",
       " 'feat_pocket_cat',\n",
       " 'feat_has expiration_cat',\n",
       " 'feat_polarised_cat',\n",
       " 'feat_adidas_cat',\n",
       " 'feat_feature_cat',\n",
       " 'feat_dial markers_cat',\n",
       " 'feat_reinforced pockets_cat',\n",
       " 'feat_date first available at amazon.co.uk_cat',\n",
       " 'feat_weather resistant_cat',\n",
       " 'feat_pattern_cat',\n",
       " 'feat_width_cat',\n",
       " 'feat_country/ organization_cat',\n",
       " 'feat_hat style_cat',\n",
       " 'feat_free item_cat',\n",
       " 'feat_shoe category_cat',\n",
       " 'feat_number of items_cat',\n",
       " 'feat_item type_cat',\n",
       " 'feat_instrument_cat',\n",
       " 'feat_digital camera_cat',\n",
       " 'feat_accessory type_cat',\n",
       " 'feat_sports league_cat',\n",
       " 'feat_casing_cat',\n",
       " 'feat_movement_cat',\n",
       " 'feat_closure style_cat',\n",
       " 'feat_primary shelf id_cat',\n",
       " 'feat_heel height_cat',\n",
       " 'feat_color mapping_cat',\n",
       " 'feat_carats_cat',\n",
       " 'feat_mechanic_cat',\n",
       " 'feat_year made_cat',\n",
       " 'feat_adjustable_cat',\n",
       " 'feat_country/region of manufacture_cat',\n",
       " 'feat_age gender group_cat',\n",
       " 'feat_manufacturer_part_number_cat',\n",
       " 'feat_authenticity_cat',\n",
       " 'feat_place of origin_cat',\n",
       " 'feat_heat zones_cat',\n",
       " 'feat_full product manual_cat',\n",
       " 'feat_sleeve style_cat',\n",
       " 'feat_item weight unit of measure_cat',\n",
       " 'feat_chain included_cat',\n",
       " 'feat_designed for_cat',\n",
       " 'feat_case tone_cat',\n",
       " 'feat_jacket length_cat',\n",
       " 'feat_product name_cat',\n",
       " 'feat_has mercury_cat',\n",
       " 'feat_retail price_cat',\n",
       " 'feat_cm_cat',\n",
       " 'feat_mpn_cat',\n",
       " 'feat_packageweight_cat',\n",
       " 'feat_batteries included?_cat',\n",
       " 'feat_shipping weight_cat',\n",
       " 'feat_fabrication_cat',\n",
       " 'feat_shipping weight (in pounds)_cat',\n",
       " 'feat_case material_cat',\n",
       " 'feat_manufacturer number_cat',\n",
       " 'feat_sku#_cat',\n",
       " 'feat_target audience_cat',\n",
       " 'feat_motion control_cat',\n",
       " 'feat_metal stamp_cat',\n",
       " 'feat_rx-able_cat',\n",
       " 'feat_diameter_cat',\n",
       " 'feat_international shipping_cat',\n",
       " 'feat_date first available_cat',\n",
       " 'feat_vehicle type_cat',\n",
       " 'feat_occasion_cat',\n",
       " 'feat_insulated_cat',\n",
       " 'feat_metal type_cat',\n",
       " 'feat_lens color_cat',\n",
       " 'feat_material type_cat',\n",
       " 'feat_lining_cat',\n",
       " 'feat_multi pack indicator_cat',\n",
       " 'feat_bridge width_cat',\n",
       " 'feat_fabric_cat',\n",
       " 'feat_has paper wood_cat',\n",
       " 'feat_weather-resistant_cat',\n",
       " 'feat_nike product #_cat',\n",
       " 'feat_conflict_cat',\n",
       " 'feat_case type:_cat',\n",
       " 'feat_frame material_cat',\n",
       " 'feat_wind resistant_cat',\n",
       " 'feat_seller inventory number_cat',\n",
       " 'feat_chain/necklace length (in.)_cat',\n",
       " 'feat_variant group id_cat',\n",
       " 'feat_water-resistant_cat',\n",
       " 'feat_safety features_cat',\n",
       " 'feat_country////region of manufacture_cat',\n",
       " 'feat_video game platform_cat',\n",
       " 'feat_resizable_cat',\n",
       " 'feat_type_cat',\n",
       " 'feat_uv protection_cat',\n",
       " 'feat_domestic shipping_cat',\n",
       " 'feat_primary color_cat',\n",
       " 'feat_polarized_cat',\n",
       " 'feat_safety apparel product type_cat',\n",
       " 'feat_country of origin - components_cat',\n",
       " 'feat_inseam_cat',\n",
       " 'feat_clothing type_cat',\n",
       " 'feat_country of manufacture_cat',\n",
       " 'feat_face shape_cat',\n",
       " 'feat_lens tint_cat',\n",
       " 'feat_материал_cat',\n",
       " 'feat_is wheeled_cat',\n",
       " 'feat_casual & dress shoe style_cat',\n",
       " 'feat_fabric care_cat',\n",
       " 'feat_shipping to usa_cat',\n",
       " 'feat_part number_cat',\n",
       " 'feat_atpv arc rating_cat',\n",
       " 'feat_product dimensions_cat',\n",
       " 'feat_clasp type_cat',\n",
       " 'feat_international shipping?_cat',\n",
       " 'feat_impact resistant_cat',\n",
       " 'feat_antiscratch lens coating_cat',\n",
       " 'feat_black_cat',\n",
       " 'feat_pronation_cat',\n",
       " 'feat_finish_cat',\n",
       " 'feat_uv rating_cat',\n",
       " 'feat_neckline_cat',\n",
       " 'feat_profession_cat',\n",
       " 'feat_fits over eyeglasses_cat',\n",
       " 'feat_vendor description_cat',\n",
       " 'feat_date first available at amazon.ca_cat',\n",
       " 'feat_fishing_cat',\n",
       " 'feat_heart rate monitor_cat',\n",
       " 'feat_lens_cat',\n",
       " 'feat_case diameter_cat',\n",
       " 'feat_used with equipment type_cat',\n",
       " 'feat_leather :_cat',\n",
       " 'feat_product in inches (l x w x h)_cat',\n",
       " 'feat_general warranty_cat',\n",
       " 'feat_is energy star-certified_cat',\n",
       " 'feat_kids backpacks_cat',\n",
       " 'feat_construction_cat',\n",
       " 'feat_clothing category_cat',\n",
       " 'feat_color/finish family_cat',\n",
       " 'feat_fastener type_cat',\n",
       " 'feat_fine or fashion_cat',\n",
       " 'feat_bridge size:_cat',\n",
       " 'feat_is waterproof_cat',\n",
       " 'feat_sizearm_cat',\n",
       " 'feat_gemstone type_cat',\n",
       " 'feat_product type_cat',\n",
       " 'feat_bezel_cat',\n",
       " 'feat_clothing product type_cat',\n",
       " 'feat_metal color_cat',\n",
       " 'feat_rise_cat',\n",
       " 'feat_location - city/state_cat',\n",
       " 'feat_wheel type_cat',\n",
       " 'feat_hands_cat',\n",
       " 'feat_reinforced knee_cat',\n",
       " 'feat_cleaning, care & maintenance_cat',\n",
       " 'feat_����������������_cat',\n",
       " 'feat_country of origin components:_cat',\n",
       " 'feat_lens width_cat',\n",
       " 'feat_waist size_cat',\n",
       " 'feat_lens socket width_cat',\n",
       " 'feat_fit_cat',\n",
       " 'feat_labor_cat',\n",
       " 'feat_sku_cat',\n",
       " 'feat_item width_cat',\n",
       " 'feat_date_cat',\n",
       " 'feat_fit to_cat',\n",
       " 'feat_contains batteries_cat',\n",
       " 'feat_fits models_cat',\n",
       " 'feat_nickel free_cat',\n",
       " 'feat_model no._cat',\n",
       " 'feat_hood_cat',\n",
       " 'feat_charge time (minutes)_cat',\n",
       " 'feat_eye protection type_cat',\n",
       " 'feat_fabric material_cat',\n",
       " 'feat_sub type_cat',\n",
       " 'feat_shoe fastening type_cat',\n",
       " 'feat_sizebridge_cat',\n",
       " 'feat_season_cat',\n",
       " 'feat_hooded_cat',\n",
       " 'feat_sub style_cat',\n",
       " 'feat_article_cat',\n",
       " 'feat_origin of components_cat',\n",
       " 'feat_lens material:_cat',\n",
       " 'feat_number of batteries included_cat',\n",
       " 'feat_bridge/temple size:_cat',\n",
       " 'feat_item character_cat',\n",
       " 'feat_elastic banded waist_cat',\n",
       " 'feat_size_cat',\n",
       " 'feat_alarm_cat',\n",
       " 'feat_is portable_cat',\n",
       " 'feat_is polarized_cat',\n",
       " 'feat_style code_cat',\n",
       " 'feat_productgroup_cat',\n",
       " 'feat_design_cat',\n",
       " 'feat_case thickness_cat',\n",
       " 'feat_assembled product dimensions (l x w x h)_cat',\n",
       " 'feat_compatible devices_cat',\n",
       " 'feat_very popular bag now a days_cat',\n",
       " 'feat_safety feature_cat',\n",
       " 'feat_measurements:_cat',\n",
       " 'feat_garment care_cat',\n",
       " 'feat_leather grade_cat',\n",
       " 'feat_temple size:_cat',\n",
       " 'feat_shoe size_cat',\n",
       " 'feat_gps_cat',\n",
       " 'feat_stability_cat',\n",
       " 'feat_country of origin - assembly_cat',\n",
       " 'feat_net weight_cat',\n",
       " 'feat_item style_cat',\n",
       " 'feat_terrain_cat',\n",
       " 'feat_fit:_cat',\n",
       " 'feat_certifications and listings_cat',\n",
       " 'feat_case finish_cat',\n",
       " 'feat_athlete_cat',\n",
       " 'feat_characteristics_cat',\n",
       " 'feat_auto_cat',\n",
       " 'feat_number of heat settings_cat',\n",
       " 'feat_chest_cat',\n",
       " 'feat_combined shipping_cat',\n",
       " 'feat_global composite sports type_cat',\n",
       " 'feat_product id_cat',\n",
       " 'feat_lens technology_cat',\n",
       " 'feat_enhanced visibility (reflective)_cat',\n",
       " 'feat_item spec attr - style (ebay)_cat',\n",
       " 'feat_special features_cat',\n",
       " 'feat_ring size_cat',\n",
       " 'feat_msrp_cat',\n",
       " 'feat_wheeled_cat',\n",
       " 'feat_protection_cat',\n",
       " 'feat_flame resistant_cat',\n",
       " 'feat_theme_cat',\n",
       " 'feat_purpose_cat',\n",
       " 'feat_toe type_cat',\n",
       " 'feat_sku number_cat',\n",
       " 'feat_amazonbestsellersrank_cat',\n",
       " 'feat_expandable_cat',\n",
       " 'feat_assembled product weight_cat',\n",
       " 'feat_number of pieces_cat',\n",
       " 'feat_watch case shape_cat',\n",
       " 'feat_model number_cat',\n",
       " 'feat_removable hood_cat',\n",
       " 'feat_genre_cat',\n",
       " 'feat_front style_cat',\n",
       " 'feat_series name_cat',\n",
       " 'feat_batteries required?_cat',\n",
       " 'feat_label_cat',\n",
       " 'feat_parts_cat',\n",
       " 'feat_guaranteed authentic_cat',\n",
       " 'feat_light transmission (vlt)_cat',\n",
       " 'feat_frame type_cat',\n",
       " 'feat_box_cat',\n",
       " 'feat_catalog_cat',\n",
       " 'feat_band width_cat',\n",
       " 'feat_fits model_cat',\n",
       " 'feat_main color_cat',\n",
       " 'feat_style #_cat',\n",
       " 'feat_dimensions_cat',\n",
       " 'feat_interior pockets_cat',\n",
       " 'feat_resolution megapixels_cat',\n",
       " 'feat_includes_cat',\n",
       " 'feat_animal type_cat',\n",
       " 'feat_frame material:_cat',\n",
       " 'feat_use_cat',\n",
       " 'feat_country of manufacturer_cat',\n",
       " 'feat_military style_cat',\n",
       " 'feat_watch power source_cat',\n",
       " 'feat_comfort technology_cat',\n",
       " 'feat_front_cat',\n",
       " 'feat_materials_cat',\n",
       " 'feat_is orthopedic_cat',\n",
       " 'feat_stone type_cat',\n",
       " 'feat_style name_cat',\n",
       " 'feat_colour code_cat',\n",
       " 'feat_chain length_cat',\n",
       " 'feat_is weather-resistant_cat',\n",
       " 'feat_machine washable_cat',\n",
       " 'feat_model_cat',\n",
       " 'feat_fits styles_cat',\n",
       " 'feat_polarized?_cat',\n",
       " 'feat_ean_cat',\n",
       " 'feat_insulation_cat',\n",
       " 'feat_lens material_cat',\n",
       " 'feat_hammer loop_cat',\n",
       " 'feat_frame color_cat',\n",
       " 'feat_compass_cat',\n",
       " 'feat_fits brands_cat',\n",
       " 'feat_manufacturer sku_cat',\n",
       " 'feat_power reserve_cat',\n",
       " 'feat_is water-resistant_cat',\n",
       " 'feat_weight_cat',\n",
       " 'feat_shoe width_cat',\n",
       " 'feat_ring style_cat',\n",
       " 'feat_watch band material_cat',\n",
       " 'feat_sports team_cat',\n",
       " 'feat_year_cat',\n",
       " 'feat_lining material_cat',\n",
       " 'feat_hunting_cat',\n",
       " 'feat_age end_cat',\n",
       " 'feat_material composition_cat',\n",
       " 'feat_item weight_cat',\n",
       " 'feat_part type_cat',\n",
       " 'feat_ul safety listing_cat',\n",
       " 'feat_number of pockets_cat',\n",
       " 'feat_type 2_cat',\n",
       " 'feat_band length_cat',\n",
       " 'feat_spikes type_cat',\n",
       " 'feat_mpn#_cat',\n",
       " 'feat_condition_cat',\n",
       " 'feat_shape_cat',\n",
       " 'feat_height_cat',\n",
       " 'feat_band type_cat',\n",
       " 'feat_looks best on these face shapes:_cat',\n",
       " 'feat_assembled in country of origin_cat',\n",
       " 'feat_crown_cat',\n",
       " 'feat_mirrored_cat',\n",
       " 'feat_bracelet style_cat',\n",
       " 'feat_arm_cat',\n",
       " 'feat_bag size range_cat',\n",
       " 'feat_szie_cat',\n",
       " 'feat_resolution_cat',\n",
       " 'feat_thick, warm, cozy_cat',\n",
       " 'feat_age start_cat',\n",
       " 'feat_fabric content_cat',\n",
       " 'feat_auto shut-off_cat',\n",
       " 'feat_clothing size_cat',\n",
       " 'feat_display technology_cat',\n",
       " 'feat_country//region of manufacture_cat',\n",
       " 'feat_issued/ not-issued_cat',\n",
       " 'feat_chronograph_cat',\n",
       " 'feat_polarized lenses_cat',\n",
       " 'feat_stock no._cat',\n",
       " 'feat_battery type_cat',\n",
       " 'feat_band length (in.)_cat',\n",
       " 'feat_shoe closure_cat',\n",
       " 'feat_dial color_cat',\n",
       " 'feat_crystal_cat',\n",
       " 'feat_item package quantity_cat',\n",
       " 'feat_upper material_cat',\n",
       " 'feat_stylenumber_cat',\n",
       " 'feat_age group_cat',\n",
       " 'feat_number of wheels_cat',\n",
       " 'feat_display_cat',\n",
       " 'feat_shirt size_cat',\n",
       " 'feat_character_cat',\n",
       " 'feat_footwear type_cat',\n",
       " 'feat_removable liner_cat',\n",
       " 'feat_shoe height_cat',\n",
       " 'feat_boxed-product dimensions_cat',\n",
       " 'feat_style:_cat',\n",
       " 'feat_dial material_cat',\n",
       " 'feat_outer material_cat',\n",
       " 'feat_manufacturer_cat',\n",
       " 'feat_work shoes_cat',\n",
       " 'feat_number of compartments_cat',\n",
       " 'feat_technician_cat',\n",
       " 'feat_overall material_cat',\n",
       " 'feat_suitable for_cat',\n",
       " 'feat_clothing size type_cat',\n",
       " 'feat_band material_cat',\n",
       " 'feat_fabric care instructions_cat',\n",
       " 'feat_sole_cat',\n",
       " 'feat_golf shoe type_cat',\n",
       " 'feat_lens color family_cat',\n",
       " 'feat_recommended location_cat',\n",
       " 'feat_type of sole_cat',\n",
       " 'feat_navy blue_cat',\n",
       " 'feat_lens type_cat',\n",
       " 'feat_material detail-1_cat',\n",
       " 'feat_pant style_cat',\n",
       " 'feat_colour_cat',\n",
       " 'feat_bed size_cat',\n",
       " 'feat_to fit_cat',\n",
       " 'feat_sleeve length_cat',\n",
       " 'feat_country of origin_cat',\n",
       " 'feat_is dark sky-compliant_cat',\n",
       " 'feat_tactical_cat',\n",
       " 'feat_location - country_cat',\n",
       " 'feat_band color_cat',\n",
       " 'feat_protects against_cat',\n",
       " 'feat_case back_cat',\n",
       " 'feat_name_cat',\n",
       " 'feat_designer_cat',\n",
       " 'feat_length_cat',\n",
       " 'feat_boot height_cat',\n",
       " 'feat_quantity in set_cat',\n",
       " 'feat_bridge_cat',\n",
       " 'feat_age_cat',\n",
       " 'feat_charger included_cat',\n",
       " 'feat_battery voltage_cat',\n",
       " 'feat_licensed_cat',\n",
       " 'feat_frame depth_cat',\n",
       " 'feat_waist_cat']"
      ]
     },
     "execution_count": 70,
     "metadata": {},
     "output_type": "execute_result"
    }
   ],
   "source": [
    "feats_cat = [x for x in df.columns if 'cat' in x]\n",
    "feats_cat"
   ]
  },
  {
   "cell_type": "code",
   "execution_count": 75,
   "metadata": {},
   "outputs": [],
   "source": [
    "# feats += feats_cat\n",
    "# feats = list(set(feats))\n",
    "\n"
   ]
  },
  {
   "cell_type": "code",
   "execution_count": 78,
   "metadata": {},
   "outputs": [
    {
     "data": {
      "text/plain": [
       "(-57.09827118135464, 4.261335644519549)"
      ]
     },
     "execution_count": 78,
     "metadata": {},
     "output_type": "execute_result"
    }
   ],
   "source": [
    "model = RandomForestRegressor(max_depth=5, n_estimators=100)\n",
    "run_model(feats ,model)"
   ]
  },
  {
   "cell_type": "code",
   "execution_count": 65,
   "metadata": {},
   "outputs": [
    {
     "data": {
      "text/html": [
       "\n",
       "    <style>\n",
       "    table.eli5-weights tr:hover {\n",
       "        filter: brightness(85%);\n",
       "    }\n",
       "</style>\n",
       "\n",
       "\n",
       "\n",
       "    \n",
       "\n",
       "    \n",
       "\n",
       "    \n",
       "\n",
       "    \n",
       "\n",
       "    \n",
       "\n",
       "    \n",
       "\n",
       "\n",
       "    \n",
       "\n",
       "    \n",
       "\n",
       "    \n",
       "\n",
       "    \n",
       "\n",
       "    \n",
       "\n",
       "    \n",
       "\n",
       "\n",
       "    \n",
       "\n",
       "    \n",
       "\n",
       "    \n",
       "\n",
       "    \n",
       "\n",
       "    \n",
       "        <table class=\"eli5-weights eli5-feature-importances\" style=\"border-collapse: collapse; border: none; margin-top: 0em; table-layout: auto;\">\n",
       "    <thead>\n",
       "    <tr style=\"border: none;\">\n",
       "        <th style=\"padding: 0 1em 0 0.5em; text-align: right; border: none;\">Weight</th>\n",
       "        <th style=\"padding: 0 0.5em 0 0.5em; text-align: left; border: none;\">Feature</th>\n",
       "    </tr>\n",
       "    </thead>\n",
       "    <tbody>\n",
       "    \n",
       "        <tr style=\"background-color: hsl(120, 100.00%, 80.00%); border: none;\">\n",
       "            <td style=\"padding: 0 1em 0 0.5em; text-align: right; border: none;\">\n",
       "                0.2600\n",
       "                \n",
       "                    &plusmn; 0.0110\n",
       "                \n",
       "            </td>\n",
       "            <td style=\"padding: 0 0.5em 0 0.5em; text-align: left; border: none;\">\n",
       "                brand_cat\n",
       "            </td>\n",
       "        </tr>\n",
       "    \n",
       "        <tr style=\"background-color: hsl(120, 100.00%, 89.42%); border: none;\">\n",
       "            <td style=\"padding: 0 1em 0 0.5em; text-align: right; border: none;\">\n",
       "                0.1047\n",
       "                \n",
       "                    &plusmn; 0.0084\n",
       "                \n",
       "            </td>\n",
       "            <td style=\"padding: 0 0.5em 0 0.5em; text-align: left; border: none;\">\n",
       "                feat_material_cat\n",
       "            </td>\n",
       "        </tr>\n",
       "    \n",
       "        <tr style=\"background-color: hsl(120, 100.00%, 94.07%); border: none;\">\n",
       "            <td style=\"padding: 0 1em 0 0.5em; text-align: right; border: none;\">\n",
       "                0.0458\n",
       "                \n",
       "                    &plusmn; 0.0047\n",
       "                \n",
       "            </td>\n",
       "            <td style=\"padding: 0 0.5em 0 0.5em; text-align: left; border: none;\">\n",
       "                feat_gender_cat\n",
       "            </td>\n",
       "        </tr>\n",
       "    \n",
       "        <tr style=\"background-color: hsl(120, 100.00%, 96.53%); border: none;\">\n",
       "            <td style=\"padding: 0 1em 0 0.5em; text-align: right; border: none;\">\n",
       "                0.0213\n",
       "                \n",
       "                    &plusmn; 0.0011\n",
       "                \n",
       "            </td>\n",
       "            <td style=\"padding: 0 0.5em 0 0.5em; text-align: left; border: none;\">\n",
       "                feat_brand_cat\n",
       "            </td>\n",
       "        </tr>\n",
       "    \n",
       "        <tr style=\"background-color: hsl(120, 100.00%, 98.42%); border: none;\">\n",
       "            <td style=\"padding: 0 1em 0 0.5em; text-align: right; border: none;\">\n",
       "                0.0069\n",
       "                \n",
       "                    &plusmn; 0.0016\n",
       "                \n",
       "            </td>\n",
       "            <td style=\"padding: 0 0.5em 0 0.5em; text-align: left; border: none;\">\n",
       "                feat_style_cat\n",
       "            </td>\n",
       "        </tr>\n",
       "    \n",
       "        <tr style=\"background-color: hsl(120, 100.00%, 99.85%); border: none;\">\n",
       "            <td style=\"padding: 0 1em 0 0.5em; text-align: right; border: none;\">\n",
       "                0.0002\n",
       "                \n",
       "                    &plusmn; 0.0000\n",
       "                \n",
       "            </td>\n",
       "            <td style=\"padding: 0 0.5em 0 0.5em; text-align: left; border: none;\">\n",
       "                feat_sport_cat\n",
       "            </td>\n",
       "        </tr>\n",
       "    \n",
       "    \n",
       "    </tbody>\n",
       "</table>\n",
       "    \n",
       "\n",
       "    \n",
       "\n",
       "\n",
       "    \n",
       "\n",
       "    \n",
       "\n",
       "    \n",
       "\n",
       "    \n",
       "\n",
       "    \n",
       "\n",
       "    \n",
       "\n",
       "\n",
       "\n"
      ],
      "text/plain": [
       "<IPython.core.display.HTML object>"
      ]
     },
     "execution_count": 65,
     "metadata": {},
     "output_type": "execute_result"
    }
   ],
   "source": [
    "X = df[feats].values\n",
    "y = df['prices_amountmin'].values\n",
    "\n",
    "m = RandomForestRegressor(max_depth=5, n_estimators=100, random_state=0)\n",
    "m.fit(X, y)\n",
    "\n",
    "perm = PermutationImportance(m, random_state=1).fit(X, y);\n",
    "eli5.show_weights(perm, feature_names = feats)"
   ]
  },
  {
   "cell_type": "code",
   "execution_count": 51,
   "metadata": {},
   "outputs": [
    {
     "data": {
      "text/plain": [
       "nike                         0.097210\n",
       "puma                         0.033315\n",
       "ralph lauren                 0.028775\n",
       "vans                         0.021116\n",
       "new balance                  0.020295\n",
       "                               ...   \n",
       "cufflink aficionado          0.000055\n",
       "cashel                       0.000055\n",
       "earrings-midwestjewellery    0.000055\n",
       "mod activewear               0.000055\n",
       "bills khakis                 0.000055\n",
       "Name: brand, Length: 1732, dtype: float64"
      ]
     },
     "execution_count": 51,
     "metadata": {},
     "output_type": "execute_result"
    }
   ],
   "source": [
    "df['brand'].value_counts(normalize=True)"
   ]
  },
  {
   "cell_type": "code",
   "execution_count": 66,
   "metadata": {},
   "outputs": [
    {
     "data": {
      "text/plain": [
       "array([{'gender': 'men', 'shoe category': 'mens shoes', 'color': 'black/action red/team red', 'casual & dress shoe style': 'running shoes', 'manufacturer part number': '707552060', 'brand': 'nike', 'shoe width': 'medium (d, m)'}],\n",
       "      dtype=object)"
      ]
     },
     "execution_count": 66,
     "metadata": {},
     "output_type": "execute_result"
    }
   ],
   "source": [
    "df[df['brand'] == 'nike'].features_parsed.sample().values"
   ]
  },
  {
   "cell_type": "code",
   "execution_count": 68,
   "metadata": {},
   "outputs": [
    {
     "data": {
      "text/plain": [
       "adult               4563\n",
       "men                  350\n",
       "child                 77\n",
       "men's                 33\n",
       "unisex                 6\n",
       "mens                   4\n",
       "toddler                4\n",
       "infant                 4\n",
       "boys'                  3\n",
       "women ,�� unisex       2\n",
       "youth                  2\n",
       "men||women             2\n",
       "women                  2\n",
       "adult ,�� teen         1\n",
       "12 up                  1\n",
       "Name: feat_age group, dtype: int64"
      ]
     },
     "execution_count": 68,
     "metadata": {},
     "output_type": "execute_result"
    }
   ],
   "source": [
    "df['feat_age group'].value_counts()"
   ]
  },
  {
   "cell_type": "code",
   "execution_count": null,
   "metadata": {},
   "outputs": [],
   "source": []
  }
 ],
 "metadata": {
  "colab": {
   "authorship_tag": "ABX9TyOHX5BDoPvAZ7ZttibeV5Y4",
   "mount_file_id": "1xCHTgaOu9JjDFAk08WnhLc0ftAowllRW",
   "name": "day5.ipynb",
   "provenance": []
  },
  "kernelspec": {
   "display_name": "Python 3",
   "language": "python",
   "name": "python3"
  },
  "language_info": {
   "codemirror_mode": {
    "name": "ipython",
    "version": 3
   },
   "file_extension": ".py",
   "mimetype": "text/x-python",
   "name": "python",
   "nbconvert_exporter": "python",
   "pygments_lexer": "ipython3",
   "version": "3.6.8"
  }
 },
 "nbformat": 4,
 "nbformat_minor": 1
}
